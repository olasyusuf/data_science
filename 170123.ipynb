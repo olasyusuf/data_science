{
 "cells": [
  {
   "cell_type": "code",
   "execution_count": 11,
   "id": "4da84d63",
   "metadata": {},
   "outputs": [
    {
     "data": {
      "text/plain": [
       "78"
      ]
     },
     "execution_count": 11,
     "metadata": {},
     "output_type": "execute_result"
    }
   ],
   "source": [
    "a = ['k', 5, 5.0, {5, 3}]\n",
    "b = (2, 4, 1, [78, 2], 9)\n",
    "\n",
    "b[3][0]"
   ]
  },
  {
   "cell_type": "code",
   "execution_count": 12,
   "id": "8ddcaec5",
   "metadata": {},
   "outputs": [
    {
     "name": "stdout",
     "output_type": "stream",
     "text": [
      "11\n",
      "-1\n",
      "1\n",
      "30\n",
      "0.8333333333333334\n",
      "1.2\n",
      "15625\n",
      "7776\n",
      "1\n",
      "0\n"
     ]
    }
   ],
   "source": [
    "x = 5\n",
    "y = 6\n",
    "\n",
    "print(x+y)\n",
    "print(x-y)\n",
    "print(y-x)\n",
    "print(x * y)\n",
    "print(x / y)\n",
    "print(y / x)\n",
    "print(x ** y)\n",
    "print(y ** x)\n",
    "print(y // x)\n",
    "print(x // y)"
   ]
  },
  {
   "cell_type": "code",
   "execution_count": 2,
   "id": "4d9f5344",
   "metadata": {},
   "outputs": [
    {
     "name": "stdout",
     "output_type": "stream",
     "text": [
      "1\n",
      "4\n",
      "36.0\n"
     ]
    }
   ],
   "source": [
    "x = 5\n",
    "y = 4\n",
    "\n",
    "print(x % y) \n",
    "print(y % x) \n",
    "print(x * 2 + y / 4 % 3 + 5 ** 2)"
   ]
  },
  {
   "cell_type": "code",
   "execution_count": 35,
   "id": "ef16bf95",
   "metadata": {},
   "outputs": [
    {
     "name": "stdout",
     "output_type": "stream",
     "text": [
      "21\n"
     ]
    }
   ],
   "source": [
    "text = \"I love programming...\"\n",
    "\n",
    "print(len(text))"
   ]
  },
  {
   "cell_type": "code",
   "execution_count": 2,
   "id": "b1a45b27",
   "metadata": {},
   "outputs": [
    {
     "name": "stdout",
     "output_type": "stream",
     "text": [
      "I LOVE PROGRAMMING...\n"
     ]
    }
   ],
   "source": [
    "print(text.upper())"
   ]
  },
  {
   "cell_type": "code",
   "execution_count": 4,
   "id": "a018222d",
   "metadata": {},
   "outputs": [
    {
     "name": "stdout",
     "output_type": "stream",
     "text": [
      "I love programming...\n"
     ]
    }
   ],
   "source": [
    "print(text.capitalize())"
   ]
  },
  {
   "cell_type": "code",
   "execution_count": 5,
   "id": "b8dd9af9",
   "metadata": {},
   "outputs": [
    {
     "name": "stdout",
     "output_type": "stream",
     "text": [
      "I Love Programming...\n"
     ]
    }
   ],
   "source": [
    "print(text.title())"
   ]
  },
  {
   "cell_type": "code",
   "execution_count": 7,
   "id": "233ce2a4",
   "metadata": {},
   "outputs": [
    {
     "data": {
      "text/plain": [
       "'LOVE'"
      ]
     },
     "execution_count": 7,
     "metadata": {},
     "output_type": "execute_result"
    }
   ],
   "source": [
    "text[2:6].upper()"
   ]
  },
  {
   "cell_type": "code",
   "execution_count": 8,
   "id": "6c880116",
   "metadata": {},
   "outputs": [
    {
     "data": {
      "text/plain": [
       "0"
      ]
     },
     "execution_count": 8,
     "metadata": {},
     "output_type": "execute_result"
    }
   ],
   "source": [
    "text.count('O')"
   ]
  },
  {
   "cell_type": "code",
   "execution_count": 15,
   "id": "4646f7fc",
   "metadata": {},
   "outputs": [
    {
     "data": {
      "text/plain": [
       "-1"
      ]
     },
     "execution_count": 15,
     "metadata": {},
     "output_type": "execute_result"
    }
   ],
   "source": [
    "text.find('O')"
   ]
  },
  {
   "cell_type": "code",
   "execution_count": 18,
   "id": "bf7767a1",
   "metadata": {},
   "outputs": [
    {
     "data": {
      "text/plain": [
       "False"
      ]
     },
     "execution_count": 18,
     "metadata": {},
     "output_type": "execute_result"
    }
   ],
   "source": [
    "text.endswith('g')"
   ]
  },
  {
   "cell_type": "code",
   "execution_count": 19,
   "id": "2bf30b2f",
   "metadata": {},
   "outputs": [
    {
     "data": {
      "text/plain": [
       "True"
      ]
     },
     "execution_count": 19,
     "metadata": {},
     "output_type": "execute_result"
    }
   ],
   "source": [
    "text.endswith('.')"
   ]
  },
  {
   "cell_type": "code",
   "execution_count": 16,
   "id": "a7e657b7",
   "metadata": {},
   "outputs": [
    {
     "ename": "ValueError",
     "evalue": "substring not found",
     "output_type": "error",
     "traceback": [
      "\u001b[1;31m---------------------------------------------------------------------------\u001b[0m",
      "\u001b[1;31mValueError\u001b[0m                                Traceback (most recent call last)",
      "\u001b[1;32m~\\AppData\\Local\\Temp\\ipykernel_35064\\2166764288.py\u001b[0m in \u001b[0;36m<module>\u001b[1;34m\u001b[0m\n\u001b[1;32m----> 1\u001b[1;33m \u001b[0mtext\u001b[0m\u001b[1;33m.\u001b[0m\u001b[0mindex\u001b[0m\u001b[1;33m(\u001b[0m\u001b[1;34m'O'\u001b[0m\u001b[1;33m)\u001b[0m\u001b[1;33m\u001b[0m\u001b[1;33m\u001b[0m\u001b[0m\n\u001b[0m",
      "\u001b[1;31mValueError\u001b[0m: substring not found"
     ]
    }
   ],
   "source": [
    "text.index('O')"
   ]
  },
  {
   "cell_type": "code",
   "execution_count": 20,
   "id": "b9e1413d",
   "metadata": {},
   "outputs": [
    {
     "data": {
      "text/plain": [
       "False"
      ]
     },
     "execution_count": 20,
     "metadata": {},
     "output_type": "execute_result"
    }
   ],
   "source": [
    "text.isalpha()"
   ]
  },
  {
   "cell_type": "code",
   "execution_count": 21,
   "id": "bf6d3635",
   "metadata": {},
   "outputs": [
    {
     "data": {
      "text/plain": [
       "False"
      ]
     },
     "execution_count": 21,
     "metadata": {},
     "output_type": "execute_result"
    }
   ],
   "source": [
    "text.isalnum()"
   ]
  },
  {
   "cell_type": "code",
   "execution_count": 22,
   "id": "63b61dcb",
   "metadata": {},
   "outputs": [
    {
     "data": {
      "text/plain": [
       "False"
      ]
     },
     "execution_count": 22,
     "metadata": {},
     "output_type": "execute_result"
    }
   ],
   "source": [
    "text.isupper()"
   ]
  },
  {
   "cell_type": "code",
   "execution_count": 23,
   "id": "c1da4882",
   "metadata": {},
   "outputs": [
    {
     "data": {
      "text/plain": [
       "False"
      ]
     },
     "execution_count": 23,
     "metadata": {},
     "output_type": "execute_result"
    }
   ],
   "source": [
    "text.islower()"
   ]
  },
  {
   "cell_type": "code",
   "execution_count": 24,
   "id": "45268e68",
   "metadata": {},
   "outputs": [
    {
     "data": {
      "text/plain": [
       "False"
      ]
     },
     "execution_count": 24,
     "metadata": {},
     "output_type": "execute_result"
    }
   ],
   "source": [
    "text.isnumeric()"
   ]
  },
  {
   "cell_type": "code",
   "execution_count": 25,
   "id": "fb54aa95",
   "metadata": {},
   "outputs": [
    {
     "data": {
      "text/plain": [
       "False"
      ]
     },
     "execution_count": 25,
     "metadata": {},
     "output_type": "execute_result"
    }
   ],
   "source": [
    "text.istitle()"
   ]
  },
  {
   "cell_type": "code",
   "execution_count": 26,
   "id": "65cd55d0",
   "metadata": {},
   "outputs": [
    {
     "data": {
      "text/plain": [
       "'I heart programming...'"
      ]
     },
     "execution_count": 26,
     "metadata": {},
     "output_type": "execute_result"
    }
   ],
   "source": [
    "text.replace(\"love\", \"heart\")"
   ]
  },
  {
   "cell_type": "code",
   "execution_count": 27,
   "id": "f891e44a",
   "metadata": {},
   "outputs": [
    {
     "data": {
      "text/plain": [
       "'I love programming...'"
      ]
     },
     "execution_count": 27,
     "metadata": {},
     "output_type": "execute_result"
    }
   ],
   "source": [
    "text"
   ]
  },
  {
   "cell_type": "code",
   "execution_count": 37,
   "id": "39c9f01b",
   "metadata": {},
   "outputs": [
    {
     "data": {
      "text/plain": [
       "'I love programming...'"
      ]
     },
     "execution_count": 37,
     "metadata": {},
     "output_type": "execute_result"
    }
   ],
   "source": [
    "text.replace(\"love\", \"heart\")\n",
    "text"
   ]
  },
  {
   "cell_type": "code",
   "execution_count": 38,
   "id": "f78156aa",
   "metadata": {},
   "outputs": [
    {
     "data": {
      "text/plain": [
       "'I heart programming...'"
      ]
     },
     "execution_count": 38,
     "metadata": {},
     "output_type": "execute_result"
    }
   ],
   "source": [
    "text = text.replace(\"love\", \"heart\")\n",
    "text"
   ]
  },
  {
   "cell_type": "code",
   "execution_count": 29,
   "id": "10cb2a9d",
   "metadata": {},
   "outputs": [
    {
     "data": {
      "text/plain": [
       "'I heart programming...'"
      ]
     },
     "execution_count": 29,
     "metadata": {},
     "output_type": "execute_result"
    }
   ],
   "source": [
    "text"
   ]
  },
  {
   "cell_type": "code",
   "execution_count": 39,
   "id": "9bb86588",
   "metadata": {},
   "outputs": [
    {
     "data": {
      "text/plain": [
       "['I', 'heart', 'programming...']"
      ]
     },
     "execution_count": 39,
     "metadata": {},
     "output_type": "execute_result"
    }
   ],
   "source": [
    "text.split(' ')"
   ]
  },
  {
   "cell_type": "code",
   "execution_count": 40,
   "id": "3087b042",
   "metadata": {},
   "outputs": [
    {
     "data": {
      "text/plain": [
       "'I heart programming...'"
      ]
     },
     "execution_count": 40,
     "metadata": {},
     "output_type": "execute_result"
    }
   ],
   "source": [
    "text"
   ]
  },
  {
   "cell_type": "code",
   "execution_count": 41,
   "id": "1795442f",
   "metadata": {},
   "outputs": [],
   "source": [
    "text = text.split(' ')"
   ]
  },
  {
   "cell_type": "code",
   "execution_count": 42,
   "id": "1c66c690",
   "metadata": {},
   "outputs": [
    {
     "data": {
      "text/plain": [
       "['I', 'heart', 'programming...']"
      ]
     },
     "execution_count": 42,
     "metadata": {},
     "output_type": "execute_result"
    }
   ],
   "source": [
    "text"
   ]
  },
  {
   "cell_type": "code",
   "execution_count": 43,
   "id": "5d502fc9",
   "metadata": {},
   "outputs": [
    {
     "name": "stdout",
     "output_type": "stream",
     "text": [
      "<class 'list'>\n"
     ]
    }
   ],
   "source": [
    "print(type(text))"
   ]
  },
  {
   "cell_type": "code",
   "execution_count": 47,
   "id": "57a19b06",
   "metadata": {},
   "outputs": [],
   "source": [
    "text = ' '.join(text)"
   ]
  },
  {
   "cell_type": "code",
   "execution_count": 48,
   "id": "6fe7e4da",
   "metadata": {},
   "outputs": [
    {
     "data": {
      "text/plain": [
       "'I heart programming...'"
      ]
     },
     "execution_count": 48,
     "metadata": {},
     "output_type": "execute_result"
    }
   ],
   "source": [
    "text"
   ]
  },
  {
   "cell_type": "code",
   "execution_count": 49,
   "id": "5bf46042",
   "metadata": {},
   "outputs": [],
   "source": [
    "a = 5\n",
    "b = '5'"
   ]
  },
  {
   "cell_type": "code",
   "execution_count": 50,
   "id": "897aafd2",
   "metadata": {},
   "outputs": [
    {
     "ename": "TypeError",
     "evalue": "unsupported operand type(s) for +: 'int' and 'str'",
     "output_type": "error",
     "traceback": [
      "\u001b[1;31m---------------------------------------------------------------------------\u001b[0m",
      "\u001b[1;31mTypeError\u001b[0m                                 Traceback (most recent call last)",
      "\u001b[1;32m~\\AppData\\Local\\Temp\\ipykernel_35064\\3864629426.py\u001b[0m in \u001b[0;36m<module>\u001b[1;34m\u001b[0m\n\u001b[1;32m----> 1\u001b[1;33m \u001b[0mprint\u001b[0m\u001b[1;33m(\u001b[0m\u001b[0ma\u001b[0m \u001b[1;33m+\u001b[0m \u001b[0mb\u001b[0m\u001b[1;33m)\u001b[0m\u001b[1;33m\u001b[0m\u001b[1;33m\u001b[0m\u001b[0m\n\u001b[0m",
      "\u001b[1;31mTypeError\u001b[0m: unsupported operand type(s) for +: 'int' and 'str'"
     ]
    }
   ],
   "source": [
    "print(a + b)"
   ]
  },
  {
   "cell_type": "code",
   "execution_count": 51,
   "id": "36eb879f",
   "metadata": {},
   "outputs": [
    {
     "name": "stdout",
     "output_type": "stream",
     "text": [
      "10\n"
     ]
    }
   ],
   "source": [
    "print(a + int(b))"
   ]
  },
  {
   "cell_type": "code",
   "execution_count": 54,
   "id": "37b5ac7d",
   "metadata": {},
   "outputs": [
    {
     "name": "stdout",
     "output_type": "stream",
     "text": [
      "55\n",
      "<class 'str'>\n"
     ]
    }
   ],
   "source": [
    "c = str(a) + b\n",
    "print(c)\n",
    "print(type(c))"
   ]
  },
  {
   "cell_type": "code",
   "execution_count": 55,
   "id": "c34ec441",
   "metadata": {},
   "outputs": [
    {
     "name": "stdout",
     "output_type": "stream",
     "text": [
      "55555\n"
     ]
    }
   ],
   "source": [
    "d = 5 * '5'\n",
    "print(d)"
   ]
  },
  {
   "cell_type": "code",
   "execution_count": 2,
   "id": "589e1ec7",
   "metadata": {},
   "outputs": [
    {
     "name": "stdout",
     "output_type": "stream",
     "text": [
      "5 + 7 = 12\n",
      "5 + 7 = 12\n",
      "5 + 7 = 12\n",
      "5 + 7 = 12\n"
     ]
    }
   ],
   "source": [
    "a = 5\n",
    "b = 7\n",
    "\n",
    "print(a, '+', b, '=', a+b)\n",
    "print(str(a) + \" + \" + str(b) + ' = ' + str(a+b))\n",
    "print('{1} + {2} = {0}'.format(a+b, a, b))\n",
    "print(f'{a} + {b} = {a+b}')"
   ]
  },
  {
   "cell_type": "code",
   "execution_count": null,
   "id": "457a2ec0",
   "metadata": {},
   "outputs": [],
   "source": []
  },
  {
   "cell_type": "code",
   "execution_count": 4,
   "id": "e240e2b8",
   "metadata": {},
   "outputs": [
    {
     "name": "stdout",
     "output_type": "stream",
     "text": [
      "[]\n",
      "0\n"
     ]
    }
   ],
   "source": [
    "d = []\n",
    "\n",
    "print(d)\n",
    "print(len(d))"
   ]
  },
  {
   "cell_type": "code",
   "execution_count": 7,
   "id": "3439533b",
   "metadata": {},
   "outputs": [
    {
     "name": "stdout",
     "output_type": "stream",
     "text": [
      "<class 'list'>\n",
      "<class 'list'>\n"
     ]
    }
   ],
   "source": [
    "a = [4, \"d\", 8.9]\n",
    "b = list((4, \"d\", 8.9))\n",
    "\n",
    "print(type(a))\n",
    "print(type(b))"
   ]
  },
  {
   "cell_type": "code",
   "execution_count": 23,
   "id": "f2480516",
   "metadata": {
    "scrolled": true
   },
   "outputs": [
    {
     "name": "stdout",
     "output_type": "stream",
     "text": [
      "<class 'list'> 0 []\n",
      "<class 'list'> 0 []\n"
     ]
    }
   ],
   "source": [
    "a = []\n",
    "b = list()\n",
    "\n",
    "print(type(a), len(a), a)\n",
    "print(type(b), len(b), b)"
   ]
  },
  {
   "cell_type": "code",
   "execution_count": 31,
   "id": "c6d8a47f",
   "metadata": {},
   "outputs": [
    {
     "name": "stdout",
     "output_type": "stream",
     "text": [
      "[(5, 7, 8), {8, 5, 7}, [5, 7, 8], [5, 7, 8], {8, 5, 7}]\n"
     ]
    }
   ],
   "source": [
    "a.append({5, 7, 8})\n",
    "print(a)"
   ]
  },
  {
   "cell_type": "code",
   "execution_count": 29,
   "id": "933bf1f7",
   "metadata": {},
   "outputs": [
    {
     "name": "stdout",
     "output_type": "stream",
     "text": [
      "[5, 7, 8, 5, 7, 8, 8, 5, 7]\n"
     ]
    }
   ],
   "source": [
    "b.extend({5, 7, 8})\n",
    "print(b)"
   ]
  },
  {
   "cell_type": "code",
   "execution_count": 32,
   "id": "67bbc644",
   "metadata": {},
   "outputs": [
    {
     "data": {
      "text/plain": [
       "[5, 7, 8]"
      ]
     },
     "execution_count": 32,
     "metadata": {},
     "output_type": "execute_result"
    }
   ],
   "source": [
    "b = []\n",
    "\n",
    "b.extend((5, 7, 8))\n",
    "b"
   ]
  },
  {
   "cell_type": "code",
   "execution_count": 35,
   "id": "7e73b53d",
   "metadata": {},
   "outputs": [
    {
     "name": "stdout",
     "output_type": "stream",
     "text": [
      "[5, 7, 8]\n"
     ]
    }
   ],
   "source": [
    "b = []\n",
    "\n",
    "for i in (5, 7, 8):\n",
    "    b.append(i)\n",
    "    \n",
    "print(b)"
   ]
  },
  {
   "cell_type": "code",
   "execution_count": 36,
   "id": "0a142c9f",
   "metadata": {},
   "outputs": [
    {
     "name": "stdout",
     "output_type": "stream",
     "text": [
      "[5, 100, 7, 8]\n",
      "[5, 100, 7, 8, 5, 7, 8]\n"
     ]
    }
   ],
   "source": [
    "b.insert(1, 100)\n",
    "print(b)\n",
    "\n",
    "for i in (5, 7, 8):\n",
    "    b.append(i)\n",
    "\n",
    "print(b)"
   ]
  },
  {
   "cell_type": "code",
   "execution_count": 42,
   "id": "d49e509c",
   "metadata": {},
   "outputs": [
    {
     "name": "stdout",
     "output_type": "stream",
     "text": [
      "5\n"
     ]
    }
   ],
   "source": [
    "item_removed = b.pop()\n",
    "print(item_removed)"
   ]
  },
  {
   "cell_type": "code",
   "execution_count": 43,
   "id": "76a9603d",
   "metadata": {},
   "outputs": [
    {
     "data": {
      "text/plain": [
       "[5, 100, 8, 5, 7, 8]"
      ]
     },
     "execution_count": 43,
     "metadata": {},
     "output_type": "execute_result"
    }
   ],
   "source": [
    "b = [5, 100, 7, 8, 5, 7, 8]\n",
    "b.remove(7)\n",
    "b"
   ]
  },
  {
   "cell_type": "code",
   "execution_count": 56,
   "id": "0f0c46bb",
   "metadata": {},
   "outputs": [
    {
     "name": "stdout",
     "output_type": "stream",
     "text": [
      "[5, 100, 8, 5, 8]\n",
      "[5, 5, 8]\n",
      "2\n",
      "0\n"
     ]
    }
   ],
   "source": [
    "b = [5, 100, 7, 8, 5, 7, 8]\n",
    "item_removed = 7\n",
    "\n",
    "while item_removed in b:\n",
    "    b.remove(7)\n",
    "\n",
    "print(b)\n",
    "\n",
    "del b[1:3]\n",
    "print(b)\n",
    "print(b.count(5))\n",
    "print(b.index(5))"
   ]
  },
  {
   "cell_type": "code",
   "execution_count": 59,
   "id": "5a2bc203",
   "metadata": {},
   "outputs": [
    {
     "data": {
      "text/plain": [
       "[100, 8, 8, 7, 7, 5, 5]"
      ]
     },
     "execution_count": 59,
     "metadata": {},
     "output_type": "execute_result"
    }
   ],
   "source": [
    "b = [5, 100, 7, 8, 5, 7, 8]\n",
    "\n",
    "b.sort(reverse=True)\n",
    "b"
   ]
  },
  {
   "cell_type": "code",
   "execution_count": 63,
   "id": "910ae092",
   "metadata": {},
   "outputs": [
    {
     "name": "stdout",
     "output_type": "stream",
     "text": [
      "[7, 8]\n",
      "[100, 8, 7]\n",
      "[5, 100, 7, 8, 5, 7, 8]\n",
      "[8, 7, 5, 8, 7, 100, 5]\n"
     ]
    }
   ],
   "source": [
    "b = [5, 100, 7, 8, 5, 7, 8]\n",
    "\n",
    "print(b[2:4])\n",
    "print(b[1:6:2])\n",
    "print(b[::])\n",
    "print(b[::-1])"
   ]
  },
  {
   "cell_type": "code",
   "execution_count": 76,
   "id": "15f95bdf",
   "metadata": {},
   "outputs": [
    {
     "name": "stdout",
     "output_type": "stream",
     "text": [
      "Enter name: ibinabor\n",
      "False\n"
     ]
    }
   ],
   "source": [
    "name = input('Enter name: ')\n",
    "n_name = name[::-1]\n",
    "if n_name == name:\n",
    "    print('True')\n",
    "else:\n",
    "    print('False')\n"
   ]
  },
  {
   "cell_type": "code",
   "execution_count": 78,
   "id": "5bd19bb6",
   "metadata": {},
   "outputs": [
    {
     "name": "stdout",
     "output_type": "stream",
     "text": [
      "1\n"
     ]
    }
   ],
   "source": [
    "a = (5,)\n",
    "\n",
    "print(len(a))"
   ]
  },
  {
   "cell_type": "code",
   "execution_count": 80,
   "id": "a23d922e",
   "metadata": {},
   "outputs": [
    {
     "name": "stdout",
     "output_type": "stream",
     "text": [
      "1\n"
     ]
    }
   ],
   "source": [
    "b = 5,\n",
    "print(len(b))"
   ]
  },
  {
   "cell_type": "code",
   "execution_count": 1,
   "id": "4eec101c",
   "metadata": {},
   "outputs": [
    {
     "name": "stdout",
     "output_type": "stream",
     "text": [
      "<class 'tuple'>\n",
      "<class 'tuple'>\n"
     ]
    }
   ],
   "source": [
    "b = (5, 7)\n",
    "c = 5, 7\n",
    "\n",
    "print(type(b))\n",
    "print(type(c))"
   ]
  },
  {
   "cell_type": "code",
   "execution_count": 87,
   "id": "e8a0bbbe",
   "metadata": {},
   "outputs": [
    {
     "name": "stdout",
     "output_type": "stream",
     "text": [
      "5\n"
     ]
    },
    {
     "ename": "AttributeError",
     "evalue": "'tuple' object has no attribute 'append'",
     "output_type": "error",
     "traceback": [
      "\u001b[1;31m---------------------------------------------------------------------------\u001b[0m",
      "\u001b[1;31mAttributeError\u001b[0m                            Traceback (most recent call last)",
      "\u001b[1;32m~\\AppData\\Local\\Temp\\ipykernel_13524\\1601722537.py\u001b[0m in \u001b[0;36m<module>\u001b[1;34m\u001b[0m\n\u001b[0;32m      2\u001b[0m \u001b[1;31m# c[0] = 10\u001b[0m\u001b[1;33m\u001b[0m\u001b[1;33m\u001b[0m\u001b[0m\n\u001b[0;32m      3\u001b[0m \u001b[1;33m\u001b[0m\u001b[0m\n\u001b[1;32m----> 4\u001b[1;33m \u001b[0mc\u001b[0m\u001b[1;33m.\u001b[0m\u001b[0mappend\u001b[0m\u001b[1;33m(\u001b[0m\u001b[1;36m29\u001b[0m\u001b[1;33m)\u001b[0m\u001b[1;33m\u001b[0m\u001b[1;33m\u001b[0m\u001b[0m\n\u001b[0m",
      "\u001b[1;31mAttributeError\u001b[0m: 'tuple' object has no attribute 'append'"
     ]
    }
   ],
   "source": [
    "print(c[0])\n",
    "# c[0] = 10\n",
    "\n",
    "c.append(29)"
   ]
  },
  {
   "cell_type": "code",
   "execution_count": 2,
   "id": "03e05926",
   "metadata": {},
   "outputs": [
    {
     "name": "stdout",
     "output_type": "stream",
     "text": [
      "[5, 7]\n",
      "[10, 7, 45]\n",
      "(10, 7, 45)\n"
     ]
    }
   ],
   "source": [
    "b = (5, 7)\n",
    "c = 5, 7\n",
    "\n",
    "d = list(c) \n",
    "print(d)\n",
    "d.append(45)\n",
    "d[0] = 10\n",
    "print(d)\n",
    "c = tuple(d)\n",
    "print(c)"
   ]
  },
  {
   "cell_type": "code",
   "execution_count": 8,
   "id": "cfdd50c6",
   "metadata": {},
   "outputs": [
    {
     "name": "stdout",
     "output_type": "stream",
     "text": [
      "0 2 4 6 8 10 12 14 16 18 20 22 24 26 28 30 32 34 36 38 40 42 44 46 48 50 52 54 56 58 60 62 64 66 68 70 72 74 76 78 80 82 84 86 88 90 92 94 96 98 \n",
      "\n",
      "0 1 2 3 4 5 6 7 8 9 10 11 12 13 14 15 16 17 18 19 20 21 22 23 24 25 26 27 28 29 30 31 32 33 34 35 36 37 38 39 40 41 42 43 44 45 46 47 48 49 50 51 52 53 54 55 56 57 58 59 60 61 62 63 64 65 66 67 68 69 70 71 72 73 74 75 76 77 78 79 80 81 82 83 84 85 86 87 88 89 90 91 92 93 94 95 96 97 98 99 "
     ]
    }
   ],
   "source": [
    "a = range(100) # start=0, end=99, stepwise=+1\n",
    "b = range(0, 100, 2) # start=0, end=98, stpewise=+2\n",
    "\n",
    "for i in b:\n",
    "    print(i, end=' ')\n",
    "    \n",
    "print('\\n')\n",
    "\n",
    "for i in a:\n",
    "    print(i, end=' ')"
   ]
  },
  {
   "cell_type": "code",
   "execution_count": 13,
   "id": "2bd81204",
   "metadata": {},
   "outputs": [
    {
     "name": "stdout",
     "output_type": "stream",
     "text": [
      "hello\n",
      "hello\n",
      "hello\n",
      "hello\n",
      "hello\n",
      "hello\n",
      "hello\n",
      "hello\n"
     ]
    }
   ],
   "source": [
    "for i in range(3, -20, -3):\n",
    "    print('hello')"
   ]
  },
  {
   "cell_type": "code",
   "execution_count": 15,
   "id": "288dc5a0",
   "metadata": {
    "scrolled": false
   },
   "outputs": [
    {
     "name": "stdout",
     "output_type": "stream",
     "text": [
      "hello\n",
      "hello\n",
      "hello\n",
      "hello\n",
      "hello\n",
      "hello\n",
      "hello\n",
      "hello\n",
      "\n"
     ]
    }
   ],
   "source": [
    "print('hello\\n'*8)"
   ]
  },
  {
   "cell_type": "code",
   "execution_count": 19,
   "id": "9dd5ae58",
   "metadata": {},
   "outputs": [
    {
     "name": "stdout",
     "output_type": "stream",
     "text": [
      "5\n",
      "{98, 87, 74, 28, 45}\n",
      "No\n"
     ]
    }
   ],
   "source": [
    "a = {45, 28, 98, 74, 87, 28, 98}\n",
    "b = {98, 82, 28, 45, 102, 98}\n",
    "\n",
    "print(len(a))\n",
    "#print(a[3])\n",
    "print(a)\n",
    "\n",
    "if 38 in a:\n",
    "    print('Yes')\n",
    "else:\n",
    "    print('No')"
   ]
  },
  {
   "cell_type": "code",
   "execution_count": 38,
   "id": "d335697f",
   "metadata": {},
   "outputs": [
    {
     "name": "stdout",
     "output_type": "stream",
     "text": [
      "[45, 23, 23, 45, 87]\n",
      "(45, 23, 23, 45, 87)\n",
      "{23, 45, 87}\n",
      "{100, 23, 45, 87}\n",
      "\n"
     ]
    }
   ],
   "source": [
    "d = [45, 23, 23, 45, 87]\n",
    "e = (45, 23, 23, 45, 87)\n",
    "f = {45, 23, 23, 45, 87}\n",
    "print(d)\n",
    "print(e)\n",
    "print(f)\n",
    "\n",
    "f.update([100])\n",
    "print(f)\n",
    "f.pop()\n",
    "print()"
   ]
  },
  {
   "cell_type": "code",
   "execution_count": 42,
   "id": "65c1adda",
   "metadata": {},
   "outputs": [
    {
     "name": "stdout",
     "output_type": "stream",
     "text": [
      "{98, 28, 45}\n",
      "{98, 102, 74, 45, 82, 87, 28}\n",
      "{74, 87}\n",
      "{82, 102}\n",
      "{82, 102, 87, 74}\n"
     ]
    }
   ],
   "source": [
    "a = {45, 28, 98, 74, 87, 28, 98}\n",
    "b = {98, 82, 28, 45, 102, 98}\n",
    "\n",
    "print(a.intersection(b))\n",
    "print(a.union(b))\n",
    "print(a.difference(b))\n",
    "print(b.difference(a))\n",
    "print(a.symmetric_difference(b))"
   ]
  },
  {
   "cell_type": "code",
   "execution_count": 50,
   "id": "36677ce2",
   "metadata": {},
   "outputs": [
    {
     "name": "stdout",
     "output_type": "stream",
     "text": [
      "adc@gmail.com\n",
      "4\n",
      "4\n",
      "5\n",
      "ken adc@gmail.com\n",
      "bola def@gmail.com\n",
      "mary ghr@yahoo.com\n",
      "taiwo taiwo.taiwo@microsoft.com\n",
      "bOla def@gmail.com\n"
     ]
    }
   ],
   "source": [
    "g = {'ken':'adc@gmail.com', 'bola':'def@hotmail.com',\n",
    "     'mary':'ghr@yahoo.com'}\n",
    "\n",
    "print(g['ken'])\n",
    "g['taiwo'] = 'taiwo.taiwo@microsoft.com'\n",
    "\n",
    "print(len(g))\n",
    "\n",
    "g['bola'] = 'def@gmail.com'\n",
    "print(len(g))\n",
    "\n",
    "g['bOla'] = 'def@gmail.com'\n",
    "print(len(g))\n",
    "\n",
    "for i in g:\n",
    "    print(i, g[i])"
   ]
  },
  {
   "cell_type": "code",
   "execution_count": 51,
   "id": "9f14dced",
   "metadata": {},
   "outputs": [
    {
     "name": "stdout",
     "output_type": "stream",
     "text": [
      "adc@gmail.com\n",
      "def@gmail.com\n",
      "ghr@yahoo.com\n",
      "taiwo.taiwo@microsoft.com\n",
      "def@gmail.com\n"
     ]
    }
   ],
   "source": [
    "for i in g.values():\n",
    "    print(i)"
   ]
  },
  {
   "cell_type": "code",
   "execution_count": 52,
   "id": "33e7efdc",
   "metadata": {
    "scrolled": true
   },
   "outputs": [
    {
     "name": "stdout",
     "output_type": "stream",
     "text": [
      "ken adc@gmail.com\n",
      "bola def@gmail.com\n",
      "mary ghr@yahoo.com\n",
      "taiwo taiwo.taiwo@microsoft.com\n",
      "bOla def@gmail.com\n"
     ]
    }
   ],
   "source": [
    "for i, j in g.items():\n",
    "    print(i, j)"
   ]
  },
  {
   "cell_type": "code",
   "execution_count": 53,
   "id": "fc2bcfc5",
   "metadata": {
    "scrolled": true
   },
   "outputs": [
    {
     "data": {
      "text/plain": [
       "dict_items([('ken', 'adc@gmail.com'), ('bola', 'def@gmail.com'), ('mary', 'ghr@yahoo.com'), ('taiwo', 'taiwo.taiwo@microsoft.com'), ('bOla', 'def@gmail.com')])"
      ]
     },
     "execution_count": 53,
     "metadata": {},
     "output_type": "execute_result"
    }
   ],
   "source": [
    "g.items()"
   ]
  },
  {
   "cell_type": "code",
   "execution_count": 57,
   "id": "c07b0539",
   "metadata": {},
   "outputs": [],
   "source": [
    "g.get('Ken')"
   ]
  },
  {
   "cell_type": "code",
   "execution_count": 61,
   "id": "de9b342f",
   "metadata": {},
   "outputs": [
    {
     "data": {
      "text/plain": [
       "{'ken': 'hello',\n",
       " 'bola': 'def@gmail.com',\n",
       " 'mary': 'ghr@yahoo.com',\n",
       " 'taiwo': 'taiwo.taiwo@microsoft.com',\n",
       " 'bOla': 'def@gmail.com'}"
      ]
     },
     "execution_count": 61,
     "metadata": {},
     "output_type": "execute_result"
    }
   ],
   "source": [
    "g.update({'ken': 'hello'})\n",
    "g"
   ]
  },
  {
   "cell_type": "code",
   "execution_count": 62,
   "id": "49299f54",
   "metadata": {},
   "outputs": [
    {
     "data": {
      "text/plain": [
       "{'ken': 'adc@gmail.com',\n",
       " 'bola': 'def@gmail.com',\n",
       " 'mary': 'ghr@yahoo.com',\n",
       " 'taiwo': 'taiwo.taiwo@microsoft.com',\n",
       " 'bOla': 'def@gmail.com'}"
      ]
     },
     "execution_count": 62,
     "metadata": {},
     "output_type": "execute_result"
    }
   ],
   "source": [
    "g['ken'] = 'adc@gmail.com'\n",
    "g"
   ]
  },
  {
   "cell_type": "code",
   "execution_count": 65,
   "id": "f20e699c",
   "metadata": {},
   "outputs": [
    {
     "name": "stdout",
     "output_type": "stream",
     "text": [
      "hello, ken\n",
      "hello, bola\n",
      "hello, mary\n",
      "hello, taiwo\n",
      "hello, bOla\n"
     ]
    }
   ],
   "source": [
    "for i in g:\n",
    "    print('hello,', i)"
   ]
  },
  {
   "cell_type": "code",
   "execution_count": 2,
   "id": "2feaa1cd",
   "metadata": {},
   "outputs": [
    {
     "name": "stdout",
     "output_type": "stream",
     "text": [
      "hello\n",
      "hello\n",
      "hello\n"
     ]
    }
   ],
   "source": [
    "for i in range(3):\n",
    "    print('hello')"
   ]
  },
  {
   "cell_type": "code",
   "execution_count": 1,
   "id": "15ed59d4",
   "metadata": {},
   "outputs": [
    {
     "name": "stdout",
     "output_type": "stream",
     "text": [
      "Hello\n",
      "Hello\n",
      "Hello\n"
     ]
    }
   ],
   "source": [
    "i = 0\n",
    "\n",
    "while i < 3:\n",
    "    print('Hello')\n",
    "    i += 1"
   ]
  },
  {
   "cell_type": "code",
   "execution_count": null,
   "id": "dd1ab540",
   "metadata": {},
   "outputs": [],
   "source": [
    "while True:\n",
    "    print('Hello')"
   ]
  },
  {
   "cell_type": "code",
   "execution_count": 11,
   "id": "319edbfc",
   "metadata": {},
   "outputs": [
    {
     "name": "stdout",
     "output_type": "stream",
     "text": [
      "welcome to HorizonsBank\n",
      "Enter Account No: 1123879882\n",
      "Enter pin: 2123\n",
      "[1]: balance inquire\n",
      "[2]: withdrawal\n",
      "[3]: deposit\n",
      "[4]: transfer\n",
      "[#]: Exit\n",
      "Enter option: 4\n",
      "Enter Recepient's Account No: 8363879422\n",
      "Enter Amount: 5000\n",
      "15000.0\n",
      "Transaction successful\n",
      "Do you want to perform another transaction? (Y/N): y\n",
      "Enter pin: 2123\n",
      "[1]: balance inquire\n",
      "[2]: withdrawal\n",
      "[3]: deposit\n",
      "[4]: transfer\n",
      "[#]: Exit\n",
      "Enter option: 1\n",
      "Account Bal: 495000.0\n",
      "Do you want to perform another transaction? (Y/N): y\n",
      "Enter pin: 2123\n",
      "[1]: balance inquire\n",
      "[2]: withdrawal\n",
      "[3]: deposit\n",
      "[4]: transfer\n",
      "[#]: Exit\n",
      "Enter option: 4\n",
      "Enter Recepient's Account No: 1123879882\n",
      "You cannot transfer to the same account\n",
      "Do you want to perform another transaction? (Y/N): n\n"
     ]
    }
   ],
   "source": [
    "accounts = {\n",
    "    '1123879882': {'fname': \"Aliko\", \"lname\": \"Dangote\", \n",
    "                   \"acct_type\": \"Savings\", \"pin\": '2123', \"bal\": 500000},\n",
    "    '8363879422': {'fname': \"Precious\", \"lname\": \"Adepoju\", \n",
    "                   \"acct_type\": \"Current\", \"pin\": '1113', \"bal\": 10000},\n",
    "    '1123324452': {'fname': \"Tiwa\", \"lname\": \"Salvie\", \n",
    "                   \"acct_type\": \"Savings\", \"pin\": '0101', \"bal\": 100000},\n",
    "    '1124112987': {'fname': \"Obi\", \"lname\": \"Cubana\", \n",
    "                   \"acct_type\": \"Savings\", \"pin\": '1111', \"bal\": 500000},\n",
    "    \n",
    "}\n",
    "\n",
    "status = True\n",
    "print(\"welcome to HorizonsBank\")\n",
    "\n",
    "while status:\n",
    "    account_no = input(\"Enter Account No: \")  \n",
    "    account = accounts.get(account_no)\n",
    "    \n",
    "    if account:\n",
    "        trial = 3\n",
    "        while trial > 0:    \n",
    "            pin = input('Enter pin: ')\n",
    "            if pin == account['pin']:   \n",
    "                print(\"[1]: balance inquire\")\n",
    "                print(\"[2]: withdrawal\")\n",
    "                print(\"[3]: deposit\")\n",
    "                print(\"[4]: transfer\")\n",
    "                print(\"[#]: Exit\")\n",
    "\n",
    "                option = input(\"Enter option: \")\n",
    "\n",
    "                if option == \"1\":\n",
    "                    print(f'Account Bal: {account.get(\"bal\")}')\n",
    "                elif option == \"2\":\n",
    "                    amount = float(input('Enter Amount:'))\n",
    "                    if amount > 0:\n",
    "                        if amount <= account.get('bal'):\n",
    "                            account['bal'] -= amount\n",
    "                            print('Transaction successful')\n",
    "                        else:\n",
    "                            print('Insufficient balance')\n",
    "                    else:\n",
    "                        print('Invalid Amount')\n",
    "                    \n",
    "                elif option == \"3\":\n",
    "                    amount = float(input('Enter Amount: '))\n",
    "                    if amount > 0:\n",
    "                        account['bal'] += amount\n",
    "                        print('Transaction successful')\n",
    "                    else:\n",
    "                        print('Invalid Amount')\n",
    "                elif option == \"4\":\n",
    "                    act_no = input(\"Enter Recepient's Account No: \")\n",
    "                    account_to = accounts.get(act_no)\n",
    "                    if account_to:\n",
    "                        if account_no != act_no:\n",
    "                            amount = float(input(\"Enter Amount: \"))\n",
    "                            if amount <= account.get('bal'):\n",
    "                                account['bal'] -= amount\n",
    "                                account_to['bal'] += amount\n",
    "                                print(f'{account_to.get(\"bal\")}')\n",
    "                                print('Transaction successful')\n",
    "                            else:\n",
    "                                print('Invalid Amount')  \n",
    "                        else:\n",
    "                            print('You cannot transfer to the same account')\n",
    "                    else:\n",
    "                        print('Invalid Account No')\n",
    "                    \n",
    "                elif option == \"#\":\n",
    "                    print(\"Thank you for banking with us...\")\n",
    "                    status = False\n",
    "                    break\n",
    "                else:\n",
    "                    print(\"Invalid option\")\n",
    "                    trial -= 1\n",
    "            else:\n",
    "                print('wrong pin')\n",
    "                status = False\n",
    "                trial -= 1\n",
    "            ans = input('Do you want to perform another transaction? (Y/N): ')\n",
    "            if ans.upper() != 'Y':\n",
    "                status = False\n",
    "                break\n",
    "    else:\n",
    "        print(f\"{account_no} does not exist!\")\n",
    "        break"
   ]
  },
  {
   "cell_type": "code",
   "execution_count": 3,
   "id": "f456e0e7",
   "metadata": {
    "scrolled": true
   },
   "outputs": [
    {
     "name": "stdout",
     "output_type": "stream",
     "text": [
      "[1]: Enter name \n",
      "[2]: a's in name entered\n",
      "[3]: Names stored with no of a's\n",
      "[9]: Exit\n",
      "Enter option: adeola\n",
      "invalid input\n",
      "[1]: Enter name \n",
      "[2]: a's in name entered\n",
      "[3]: Names stored with no of a's\n",
      "[9]: Exit\n",
      "Enter option: 1\n",
      "Name: adeola\n",
      "[1]: Enter name \n",
      "[2]: a's in name entered\n",
      "[3]: Names stored with no of a's\n",
      "[9]: Exit\n",
      "Enter option: 2\n"
     ]
    },
    {
     "ename": "NameError",
     "evalue": "name 'name' is not defined",
     "output_type": "error",
     "traceback": [
      "\u001b[1;31m---------------------------------------------------------------------------\u001b[0m",
      "\u001b[1;31mNameError\u001b[0m                                 Traceback (most recent call last)",
      "Cell \u001b[1;32mIn[3], line 31\u001b[0m\n\u001b[0;32m     28\u001b[0m     accept_name()\n\u001b[0;32m     30\u001b[0m \u001b[38;5;28;01melif\u001b[39;00m option \u001b[38;5;241m==\u001b[39m \u001b[38;5;124m'\u001b[39m\u001b[38;5;124m2\u001b[39m\u001b[38;5;124m'\u001b[39m:    \n\u001b[1;32m---> 31\u001b[0m     \u001b[38;5;28mprint\u001b[39m(\u001b[38;5;124mf\u001b[39m\u001b[38;5;124m\"\u001b[39m\u001b[38;5;124ma\u001b[39m\u001b[38;5;124m'\u001b[39m\u001b[38;5;124ms in name is: \u001b[39m\u001b[38;5;132;01m{\u001b[39;00mname\u001b[38;5;241m.\u001b[39mlower()\u001b[38;5;241m.\u001b[39mcount(\u001b[38;5;124m'\u001b[39m\u001b[38;5;124ma\u001b[39m\u001b[38;5;124m'\u001b[39m)\u001b[38;5;132;01m}\u001b[39;00m\u001b[38;5;124m\"\u001b[39m)\n\u001b[0;32m     33\u001b[0m \u001b[38;5;28;01melif\u001b[39;00m option \u001b[38;5;241m==\u001b[39m \u001b[38;5;124m'\u001b[39m\u001b[38;5;124m3\u001b[39m\u001b[38;5;124m'\u001b[39m:\n\u001b[0;32m     34\u001b[0m     \u001b[38;5;28;01mif\u001b[39;00m names:\n",
      "\u001b[1;31mNameError\u001b[0m: name 'name' is not defined"
     ]
    }
   ],
   "source": [
    "trial = 3\n",
    "names = []\n",
    "\n",
    "def accept_name():\n",
    "    while True:\n",
    "        name = input('Name: ')\n",
    "        if len(name) <= 2 or not name.isalpha():\n",
    "            if name.find(' '):\n",
    "                print('try again')\n",
    "                trial -= 1\n",
    "                continue\n",
    "        names.append(name.capitalize())\n",
    "        break\n",
    "    \n",
    "while trial > 0:\n",
    "    print(\"[1]: Enter name \")\n",
    "    print(\"[2]: a's in name entered\")\n",
    "    print(\"[3]: Names stored with no of a's\")\n",
    "    print(\"[9]: Exit\")\n",
    "    \n",
    "    option = input('Enter option: ')\n",
    "    \n",
    "    if option.isalpha():\n",
    "        print(\"invalid input\")\n",
    "        trial -= 1\n",
    "    else:\n",
    "        if option == '1':\n",
    "            accept_name()\n",
    "\n",
    "        elif option == '2':    \n",
    "            print(f\"a's in name is: {name.lower().count('a')}\")\n",
    "\n",
    "        elif option == '3':\n",
    "            if names:\n",
    "                for name in names:\n",
    "                    print(f\"Name: {name}, a's: {name.lower().count('a')}\")\n",
    "            else:\n",
    "                print(\"empty list\")\n",
    "        elif option == \"9\":\n",
    "            print('Thank you..')\n",
    "            break\n",
    "        else:\n",
    "            print(\"invalid option\")   "
   ]
  },
  {
   "cell_type": "code",
   "execution_count": 1,
   "id": "19c148c4",
   "metadata": {},
   "outputs": [
    {
     "name": "stdout",
     "output_type": "stream",
     "text": [
      "good morning\n"
     ]
    }
   ],
   "source": [
    "def greetings():\n",
    "    print('good morning')\n",
    "    \n",
    "    \n",
    "    \n",
    "    \n",
    "greetings()"
   ]
  },
  {
   "cell_type": "code",
   "execution_count": 2,
   "id": "e489c043",
   "metadata": {
    "scrolled": true
   },
   "outputs": [
    {
     "name": "stdout",
     "output_type": "stream",
     "text": [
      "good morning\n"
     ]
    }
   ],
   "source": [
    "greetings()"
   ]
  },
  {
   "cell_type": "code",
   "execution_count": 3,
   "id": "60947c5b",
   "metadata": {},
   "outputs": [],
   "source": [
    "def greetings(time, name):\n",
    "    print(f'{name}, good {time}')"
   ]
  },
  {
   "cell_type": "code",
   "execution_count": 5,
   "id": "a73898ce",
   "metadata": {},
   "outputs": [
    {
     "name": "stdout",
     "output_type": "stream",
     "text": [
      "Ayo, good morning\n"
     ]
    }
   ],
   "source": [
    "greetings('morning', 'Ayo')"
   ]
  },
  {
   "cell_type": "code",
   "execution_count": 6,
   "id": "20e32168",
   "metadata": {
    "scrolled": true
   },
   "outputs": [
    {
     "name": "stdout",
     "output_type": "stream",
     "text": [
      "Nana, good evening\n"
     ]
    }
   ],
   "source": [
    "greetings('evening', 'Nana')"
   ]
  },
  {
   "cell_type": "code",
   "execution_count": 13,
   "id": "1f97786c",
   "metadata": {},
   "outputs": [
    {
     "name": "stdout",
     "output_type": "stream",
     "text": [
      "good  Helen\n",
      "good night Ada\n",
      "good  Ada\n"
     ]
    }
   ],
   "source": [
    "def greetings(name, time=\"\"):\n",
    "    print(f'good {time} {name}')\n",
    "    \n",
    "\n",
    "greetings('Helen')\n",
    "greetings('Ada', 'night')\n",
    "greetings('Ada')"
   ]
  },
  {
   "cell_type": "code",
   "execution_count": 24,
   "id": "9d1b2c06",
   "metadata": {},
   "outputs": [],
   "source": [
    "def multi_table(num, iteration=12):\n",
    "    for i in range(1, iteration+1):\n",
    "        print(f\"{num} * {i} = {(num*i)}\")"
   ]
  },
  {
   "cell_type": "code",
   "execution_count": 26,
   "id": "f1267e50",
   "metadata": {
    "scrolled": true
   },
   "outputs": [
    {
     "name": "stdout",
     "output_type": "stream",
     "text": [
      "Enter number: 4\n",
      "How many lines: 15\n",
      "4 * 1 = 4\n",
      "4 * 2 = 8\n",
      "4 * 3 = 12\n",
      "4 * 4 = 16\n",
      "4 * 5 = 20\n",
      "4 * 6 = 24\n",
      "4 * 7 = 28\n",
      "4 * 8 = 32\n",
      "4 * 9 = 36\n",
      "4 * 10 = 40\n",
      "4 * 11 = 44\n",
      "4 * 12 = 48\n",
      "4 * 13 = 52\n",
      "4 * 14 = 56\n",
      "4 * 15 = 60\n"
     ]
    }
   ],
   "source": [
    "n = int(input('Enter number: '))\n",
    "i = int(input('How many lines: '))\n",
    "multi_table(n, i)"
   ]
  },
  {
   "cell_type": "code",
   "execution_count": 27,
   "id": "6c60229d",
   "metadata": {},
   "outputs": [],
   "source": [
    "def multi_table2(num, iteration=12):\n",
    "    count = 1\n",
    "    while count <= iteration:\n",
    "        print(f\"{num} * {count} = {(num*count)}\")\n",
    "        count += 1"
   ]
  },
  {
   "cell_type": "code",
   "execution_count": 28,
   "id": "24d179a9",
   "metadata": {},
   "outputs": [
    {
     "name": "stdout",
     "output_type": "stream",
     "text": [
      "Enter number: 5\n",
      "How many lines: 3\n",
      "5 * 1 = 5\n",
      "5 * 2 = 10\n",
      "5 * 3 = 15\n"
     ]
    }
   ],
   "source": [
    "n = int(input('Enter number: '))\n",
    "i = int(input('How many lines: '))\n",
    "multi_table2(n, i)"
   ]
  },
  {
   "cell_type": "code",
   "execution_count": 31,
   "id": "f09be23e",
   "metadata": {},
   "outputs": [
    {
     "name": "stdout",
     "output_type": "stream",
     "text": [
      "30\n"
     ]
    }
   ],
   "source": [
    "# import util\n",
    "from util import *\n",
    "\n",
    "res = util.basic_calculator('5*6')\n",
    "print(res)"
   ]
  },
  {
   "cell_type": "code",
   "execution_count": 35,
   "id": "2eef4928",
   "metadata": {},
   "outputs": [
    {
     "name": "stdout",
     "output_type": "stream",
     "text": [
      "33.0\n"
     ]
    }
   ],
   "source": [
    "from util import basic_calculator\n",
    "\n",
    "res = basic_calculator(\"4*2+5*10/2\")\n",
    "print(res)"
   ]
  },
  {
   "cell_type": "code",
   "execution_count": null,
   "id": "2eeba6ec",
   "metadata": {},
   "outputs": [],
   "source": [
    "from util import basic_calculator as bc\n",
    "\n",
    "res = bc('5*6')\n",
    "print(res)"
   ]
  },
  {
   "cell_type": "code",
   "execution_count": 4,
   "id": "1a5ad793",
   "metadata": {
    "scrolled": true
   },
   "outputs": [
    {
     "name": "stdout",
     "output_type": "stream",
     "text": [
      "10 * 1 = 10\n",
      "10 * 2 = 20\n",
      "10 * 3 = 30\n",
      "10 * 4 = 40\n",
      "10 * 5 = 50\n",
      "4\n"
     ]
    }
   ],
   "source": [
    "from util import multiplication_table\n",
    "\n",
    "multiplication_table(10, 5)\n",
    "print(util.basic_calculator('2+2'))"
   ]
  },
  {
   "cell_type": "code",
   "execution_count": 4,
   "id": "3ce99836",
   "metadata": {
    "scrolled": true
   },
   "outputs": [
    {
     "name": "stdout",
     "output_type": "stream",
     "text": [
      "\n"
     ]
    }
   ],
   "source": [
    "f = open('./doc/myfile.txt', 'w+')\n",
    "f.write(\"hello\")\n",
    "print(f.read())\n",
    "f.close()"
   ]
  },
  {
   "cell_type": "code",
   "execution_count": 2,
   "id": "cf5f6e1a",
   "metadata": {},
   "outputs": [
    {
     "name": "stdout",
     "output_type": "stream",
     "text": [
      "hello\n"
     ]
    }
   ],
   "source": [
    "f = open('C:\\\\Users\\\\verifier\\\\Documents\\\\python_codes\\\\doc\\\\myfile.txt')\n",
    "print(f.read())\n",
    "f.close()"
   ]
  },
  {
   "cell_type": "code",
   "execution_count": 10,
   "id": "9adfdb64",
   "metadata": {},
   "outputs": [
    {
     "name": "stdout",
     "output_type": "stream",
     "text": [
      "lets put something inside emeka...\n"
     ]
    }
   ],
   "source": [
    "file = open('emeka.txt','r+')\n",
    "print(file.read())"
   ]
  },
  {
   "cell_type": "code",
   "execution_count": 13,
   "id": "8036d8f6",
   "metadata": {},
   "outputs": [],
   "source": [
    "file = open('emeka.txt','w+')\n",
    "file.write('which thing?')\n",
    "file.close()"
   ]
  },
  {
   "cell_type": "code",
   "execution_count": 14,
   "id": "38a7e143",
   "metadata": {},
   "outputs": [],
   "source": [
    "with open('emeka.txt', 'w+') as file:\n",
    "    file.write('Anything...')"
   ]
  },
  {
   "cell_type": "code",
   "execution_count": 17,
   "id": "3ac6b83c",
   "metadata": {},
   "outputs": [
    {
     "name": "stdout",
     "output_type": "stream",
     "text": [
      "Anything...\n"
     ]
    }
   ],
   "source": [
    "import os\n",
    "\n",
    "if os.path.isfile('emeka.txt') == True:\n",
    "    with open('emeka.txt') as f:\n",
    "        print(f.read())\n",
    "else:\n",
    "    print('File does not exist..')"
   ]
  },
  {
   "cell_type": "code",
   "execution_count": 1,
   "id": "0cf4f067",
   "metadata": {},
   "outputs": [
    {
     "name": "stdout",
     "output_type": "stream",
     "text": [
      "Interna\n",
      "tional\n"
     ]
    }
   ],
   "source": [
    "print(\"Interna\\ntional\")"
   ]
  },
  {
   "cell_type": "code",
   "execution_count": 2,
   "id": "4f4de5ac",
   "metadata": {
    "scrolled": true
   },
   "outputs": [
    {
     "name": "stdout",
     "output_type": "stream",
     "text": [
      "Interna\r",
      "tional\n"
     ]
    }
   ],
   "source": [
    "print(\"Interna\\rtional\")"
   ]
  },
  {
   "cell_type": "code",
   "execution_count": 11,
   "id": "fa8cfc32",
   "metadata": {},
   "outputs": [
    {
     "name": "stdout",
     "output_type": "stream",
     "text": [
      ".ipynb_checkpoints                                 0\n",
      "260123-030223.zip                                  1824175396\n",
      "Anything.java                                      105\n",
      "Anything2.java                                     105\n",
      "Big Data Analysis with Python 035455Files1_0       0\n",
      "com.mysql.jdbc_5.1.5.jar                           676712\n",
      "com.mysql.jdbc_5.1.5.zip                           649024\n",
      "Custom Office Templates                            0\n",
      "Data Wrangling With Python                         0\n",
      "demo.mwb                                           7148\n",
      "demo.sql                                           5484\n",
      "demo2.mwb                                          11104\n",
      "demo2.mwb.bak                                      10961\n",
      "demo2.pdf                                          31840\n",
      "demo2.png                                          37603\n",
      "demo2.sql                                          5637\n",
      "demo3.mwb                                          11547\n",
      "desktop.ini                                        402\n",
      "doc                                                0\n",
      "dumps                                              0\n",
      "eshopper.txt                                       5442\n",
      "IISExpress                                         0\n",
      "mall.txt                                           637\n",
      "ML                                                 4096\n",
      "mssql-jdbc-11.2.1.jre8.jar                         1426484\n",
      "mssql-jdbc-8.4.1.jre8.jar                          1300917\n",
      "My Music                                           0\n",
      "My Pictures                                        20480\n",
      "My Tableau Repository                              4096\n",
      "My Videos                                          4096\n",
      "My Web Sites                                       0\n",
      "mysql-connector-j-8.0.31.jar                       2515519\n",
      "mysql-connector-java-8.0.18.jar                    2330539\n",
      "mysql-connector-java-8.0.18.zip                    2202282\n",
      "NetBeansProjects                                   4096\n",
      "oims.docx                                          9310001\n",
      "python_codes                                       49152\n",
      "Resume_Yusuf Olalekan Saheed.pdf                   278800\n",
      "Sample.class                                       419\n",
      "Simple project plan.mpp                            250368\n",
      "SQL Server Management Studio                       4096\n",
      "sqljdbc4-2.0.jar                                   466359\n",
      "Text Data Scientist.txt                            179\n",
      "title                                              0\n",
      "today_account.txt                                  1930\n",
      "Visual Studio 2017                                 0\n",
      "Visual Studio 2022                                 0\n",
      "vscode                                             4096\n",
      "walmart.mwb                                        13521\n",
      "walmart.mwb.bak                                    13521\n",
      "WinX YouTube Downloader                            0\n",
      "Zoom                                               8192\n"
     ]
    }
   ],
   "source": [
    "import os\n",
    "\n",
    "for i in os.listdir(\"C:/Users/verifier/Documents\"):\n",
    "    print(f'{i:50} {os.path.getsize(\"C:/Users/verifier/Documents/\" + i)}')"
   ]
  },
  {
   "cell_type": "code",
   "execution_count": 20,
   "id": "75419ec6",
   "metadata": {},
   "outputs": [
    {
     "name": "stdout",
     "output_type": "stream",
     "text": [
      ".ipynb_checkpoints                                 0\n",
      "260123-030223.zip                                  1824175396\n",
      "Anything.java                                      105\n",
      "Anything2.java                                     105\n",
      "Big Data Analysis with Python 035455Files1_0       0\n",
      "com.mysql.jdbc_5.1.5.jar                           676712\n",
      "com.mysql.jdbc_5.1.5.zip                           649024\n",
      "Custom Office Templates                            0\n",
      "Data Wrangling With Python                         0\n",
      "demo.mwb                                           7148\n",
      "demo.sql                                           5484\n",
      "demo2.mwb                                          11104\n",
      "demo2.mwb.bak                                      10961\n",
      "demo2.pdf                                          31840\n",
      "demo2.png                                          37603\n",
      "demo2.sql                                          5637\n",
      "demo3.mwb                                          11547\n",
      "desktop.ini                                        402\n",
      "doc                                                0\n",
      "dumps                                              0\n",
      "eshopper.txt                                       5442\n",
      "IISExpress                                         0\n",
      "mall.txt                                           637\n",
      "ML                                                 4096\n",
      "mssql-jdbc-11.2.1.jre8.jar                         1426484\n",
      "mssql-jdbc-8.4.1.jre8.jar                          1300917\n",
      "My Music                                           0\n",
      "My Pictures                                        20480\n",
      "My Tableau Repository                              4096\n",
      "My Videos                                          4096\n",
      "My Web Sites                                       0\n",
      "mysql-connector-j-8.0.31.jar                       2515519\n",
      "mysql-connector-java-8.0.18.jar                    2330539\n",
      "mysql-connector-java-8.0.18.zip                    2202282\n",
      "NetBeansProjects                                   4096\n",
      "oims.docx                                          9310001\n",
      "python_codes                                       49152\n",
      "Resume_Yusuf Olalekan Saheed.pdf                   278800\n",
      "Sample.class                                       419\n",
      "Simple project plan.mpp                            250368\n",
      "SQL Server Management Studio                       4096\n",
      "sqljdbc4-2.0.jar                                   466359\n",
      "Text Data Scientist.txt                            179\n",
      "title                                              0\n",
      "today_account.txt                                  1930\n",
      "Visual Studio 2017                                 0\n",
      "Visual Studio 2022                                 0\n",
      "vscode                                             4096\n",
      "walmart.mwb                                        13521\n",
      "walmart.mwb.bak                                    13521\n",
      "WinX YouTube Downloader                            0\n",
      "Zoom                                               8192\n"
     ]
    }
   ],
   "source": [
    "import os\n",
    "\n",
    "path = \"C:/Users/verifier/Documents\"\n",
    "\n",
    "for i in os.listdir(path):\n",
    "    print(f'{i:50} {os.path.getsize(f\"{path}/{i}\")}')"
   ]
  },
  {
   "cell_type": "code",
   "execution_count": 24,
   "id": "350ae9d6",
   "metadata": {
    "scrolled": true
   },
   "outputs": [
    {
     "name": "stdout",
     "output_type": "stream",
     "text": [
      ".ipynb_checkpoints                                 0\n",
      "260123-030223.zip                                  1824175396\n",
      "Anything.java                                      105\n",
      "Anything2.java                                     105\n",
      "Big Data Analysis with Python 035455Files1_0       0\n",
      "com.mysql.jdbc_5.1.5.jar                           676712\n",
      "com.mysql.jdbc_5.1.5.zip                           649024\n",
      "Custom Office Templates                            0\n",
      "Data Wrangling With Python                         0\n",
      "demo.mwb                                           7148\n",
      "demo.sql                                           5484\n",
      "demo2.mwb                                          11104\n",
      "demo2.mwb.bak                                      10961\n",
      "demo2.pdf                                          31840\n",
      "demo2.png                                          37603\n",
      "demo2.sql                                          5637\n",
      "demo3.mwb                                          11547\n",
      "desktop.ini                                        402\n",
      "doc                                                0\n",
      "dumps                                              0\n",
      "eshopper.txt                                       5442\n",
      "IISExpress                                         0\n",
      "mall.txt                                           637\n",
      "ML                                                 4096\n",
      "mssql-jdbc-11.2.1.jre8.jar                         1426484\n",
      "mssql-jdbc-8.4.1.jre8.jar                          1300917\n",
      "My Music                                           0\n",
      "My Pictures                                        20480\n",
      "My Tableau Repository                              4096\n",
      "My Videos                                          4096\n",
      "My Web Sites                                       0\n",
      "mysql-connector-j-8.0.31.jar                       2515519\n",
      "mysql-connector-java-8.0.18.jar                    2330539\n",
      "mysql-connector-java-8.0.18.zip                    2202282\n",
      "NetBeansProjects                                   4096\n",
      "oims.docx                                          9310001\n",
      "python_codes                                       49152\n",
      "Resume_Yusuf Olalekan Saheed.pdf                   278800\n",
      "Sample.class                                       419\n",
      "Simple project plan.mpp                            250368\n",
      "SQL Server Management Studio                       4096\n",
      "sqljdbc4-2.0.jar                                   466359\n",
      "Text Data Scientist.txt                            179\n",
      "title                                              0\n",
      "today_account.txt                                  1930\n",
      "Visual Studio 2017                                 0\n",
      "Visual Studio 2022                                 0\n",
      "vscode                                             4096\n",
      "walmart.mwb                                        13521\n",
      "walmart.mwb.bak                                    13521\n",
      "WinX YouTube Downloader                            0\n",
      "Zoom                                               8192\n"
     ]
    }
   ],
   "source": [
    "import os\n",
    "\n",
    "path = \"C:/Users/verifier/Documents\"\n",
    "\n",
    "for i in os.listdir(path):\n",
    "    print(f'{i:50} {os.path.getsize(f\"../{i}\")}')"
   ]
  },
  {
   "cell_type": "code",
   "execution_count": 30,
   "id": "41583161",
   "metadata": {
    "scrolled": true
   },
   "outputs": [
    {
     "name": "stdout",
     "output_type": "stream",
     "text": [
      "Enter x: 4\n",
      "+\n",
      "-\n",
      "*\n",
      "/\n",
      "/\n",
      "Enter y: 0\n",
      "Can not divide by zero\n",
      "Enter x: 3\n",
      "+\n",
      "-\n",
      "*\n",
      "/\n",
      "+\n",
      "Enter y: 4\n",
      "7\n",
      "Do you want perfor another operation? Y/Nn\n"
     ]
    }
   ],
   "source": [
    "while True:\n",
    "    try:\n",
    "    \n",
    "        x = input('Enter x: ')\n",
    "        o = input('+\\n-\\n*\\n/\\n')\n",
    "        y = input('Enter y: ')\n",
    "\n",
    "        z = eval(x+o+y)\n",
    "        print(z)\n",
    "        ans = input('Do you want perfor another operation? Y/N')\n",
    "        if ans.upper() != 'Y':\n",
    "            break\n",
    "        \n",
    "    except ZeroDivisionError:\n",
    "        print('Can not divide by zero')"
   ]
  },
  {
   "cell_type": "markdown",
   "id": "14fe1e8c",
   "metadata": {},
   "source": [
    "## Write a function to accept value from user and return True or False if the value a Perfect Number or Not."
   ]
  },
  {
   "cell_type": "code",
   "execution_count": 20,
   "id": "99185e1e",
   "metadata": {},
   "outputs": [
    {
     "name": "stdout",
     "output_type": "stream",
     "text": [
      "Enter value: 6\n",
      "[1, 2, 3]\n",
      "Perfect Number\n"
     ]
    }
   ],
   "source": [
    "def perfect_number(n):\n",
    "    \n",
    "    try:\n",
    "        n = int(n)\n",
    "        if n < 0:\n",
    "            return \"Invalid Value\"\n",
    "        else:\n",
    "#             divisors = []\n",
    "\n",
    "#             for i in range(1, (n//2)+1):\n",
    "#                 if n % i == 0:\n",
    "#                     divisors.append(i)\n",
    "            divisors = [i for i in range(1, (n//2)+1) if n % i == 0]\n",
    "            print(divisors)\n",
    "\n",
    "            if sum(divisors) == n:\n",
    "                return \"Perfect Number\"\n",
    "            else:\n",
    "                return \"Not Perfect Number\"\n",
    "            \n",
    "    except ValueError:\n",
    "        return \"Invalid value\"\n",
    "    \n",
    "    except:\n",
    "        return \"Error\"\n",
    "        \n",
    "        \n",
    "\n",
    "value = input('Enter value: ')\n",
    "print(perfect_number(value))\n",
    "        "
   ]
  },
  {
   "cell_type": "code",
   "execution_count": 2,
   "id": "c7739425",
   "metadata": {},
   "outputs": [],
   "source": [
    "import os\n",
    "\n",
    "os.rename(\"C:/Users/verifier/Documents/Text Data Scientist.txt\", \n",
    "          \"C:/Users/verifier/Documents/Data Scientist.txt\")"
   ]
  },
  {
   "cell_type": "code",
   "execution_count": null,
   "id": "f026c740",
   "metadata": {},
   "outputs": [],
   "source": [
    "import os\n",
    "\n",
    "os.rename(\"C:/Users/verifier/Documents/Data Scientist.txt\", \n",
    "          \"C:/Users/verifier/Downloads/Data Scientist.txt\")"
   ]
  },
  {
   "cell_type": "code",
   "execution_count": 6,
   "id": "691c17ec",
   "metadata": {},
   "outputs": [],
   "source": [
    "os.remove('C:/Users/verifier/Documents/Data Scientist - Copy.txt')"
   ]
  },
  {
   "cell_type": "code",
   "execution_count": null,
   "id": "910e16aa",
   "metadata": {},
   "outputs": [],
   "source": [
    "import shutil\n",
    "\n",
    "shutil.move(\"C:/Users/verifier/Documents/Data Scientist.txt\", \n",
    "          \"C:/Users/verifier/Downloads/Data Scientist3233.txt\")"
   ]
  },
  {
   "cell_type": "code",
   "execution_count": 9,
   "id": "bce81f3f",
   "metadata": {},
   "outputs": [],
   "source": [
    "import os\n",
    "\n",
    "os.mkdir('C:/Users/verifier/Documents/Now/Never')"
   ]
  },
  {
   "cell_type": "code",
   "execution_count": 13,
   "id": "83a3c662",
   "metadata": {},
   "outputs": [],
   "source": [
    "f = open('C:/Users/verifier/Documents/Now/Never/ten.txt', 'w+')\n",
    "f.write(\"Hellooooo\")\n",
    "f.close()\n"
   ]
  },
  {
   "cell_type": "code",
   "execution_count": 20,
   "id": "fdc2e47c",
   "metadata": {},
   "outputs": [
    {
     "ename": "OSError",
     "evalue": "[WinError 145] The directory is not empty: 'C:/Users/verifier/Documents/Now'",
     "output_type": "error",
     "traceback": [
      "\u001b[1;31m---------------------------------------------------------------------------\u001b[0m",
      "\u001b[1;31mOSError\u001b[0m                                   Traceback (most recent call last)",
      "\u001b[1;32m~\\AppData\\Local\\Temp\\ipykernel_23452\\4211536501.py\u001b[0m in \u001b[0;36m<module>\u001b[1;34m\u001b[0m\n\u001b[1;32m----> 1\u001b[1;33m \u001b[0mos\u001b[0m\u001b[1;33m.\u001b[0m\u001b[0mrmdir\u001b[0m\u001b[1;33m(\u001b[0m\u001b[1;34m'C:/Users/verifier/Documents/Now'\u001b[0m\u001b[1;33m)\u001b[0m\u001b[1;33m\u001b[0m\u001b[1;33m\u001b[0m\u001b[0m\n\u001b[0m",
      "\u001b[1;31mOSError\u001b[0m: [WinError 145] The directory is not empty: 'C:/Users/verifier/Documents/Now'"
     ]
    }
   ],
   "source": [
    "os.rmdir('C:/Users/verifier/Documents/Now')"
   ]
  },
  {
   "cell_type": "code",
   "execution_count": 3,
   "id": "72140803",
   "metadata": {},
   "outputs": [],
   "source": [
    "import shutil\n",
    "shutil.rmtree('C:/Users/verifier/Documents/Now/')"
   ]
  },
  {
   "cell_type": "code",
   "execution_count": 1,
   "id": "f4953b79",
   "metadata": {},
   "outputs": [
    {
     "data": {
      "text/plain": [
       "'C:/Users/verifier/Desktop/ML'"
      ]
     },
     "execution_count": 1,
     "metadata": {},
     "output_type": "execute_result"
    }
   ],
   "source": [
    "import shutil\n",
    "\n",
    "shutil.copytree('C:/Users/verifier/Documents/ML', \n",
    "                'C:/Users/verifier/Desktop/ML')"
   ]
  },
  {
   "cell_type": "code",
   "execution_count": 5,
   "id": "33c0883b",
   "metadata": {},
   "outputs": [],
   "source": [
    "import shutil\n",
    "shutil.rmtree('C:/Users/verifier/Desktop/ML')"
   ]
  },
  {
   "cell_type": "code",
   "execution_count": 17,
   "id": "deb29ba5",
   "metadata": {
    "scrolled": false
   },
   "outputs": [
    {
     "name": "stdout",
     "output_type": "stream",
     "text": [
      "Welcome to Vee Mart...\n",
      "\n",
      "[1]: Add To Cart\n",
      "[2]: Show Cart\n",
      "[3]: Checkout\n",
      "[#]: Exit\n",
      "\n",
      "Enter option: 1\n",
      "==========================================================================\n",
      "\n",
      "item_id Name              Brand             Size              Price    Qty\n",
      "==========================================================================\n",
      "  100   TV                Sony              32in               250.0   50\n",
      "  101   Laptop            HP                14in               120.0   50\n",
      "  102   DVD-Player        LG                NA                  80.0   50\n",
      "  103   A/C               LG                2HP                120.0   50\n",
      "  104   A/C               Panasonic         2HP                180.0   30\n",
      "  105   Laptop            Macbook           14in               450.0   50\n",
      "  106   Phone             Apple             13pro-Max          650.0   40\n",
      "  107   Washing-Machine   Samsung           7kg                120.0  100\n",
      "  108   Refrigerator      Samsung           130ltr             105.0  100\n",
      "  109   Gas-Cooker        LG                Medium              85.0  100\n",
      "==========================================================================\n",
      "Enter item id or # to return: 104\n",
      "Enter qty: 3\n",
      "==========================================================================\n",
      "\n",
      "item_id Name              Brand             Size              Price    Qty\n",
      "==========================================================================\n",
      "  100   TV                Sony              32in               250.0   50\n",
      "  101   Laptop            HP                14in               120.0   50\n",
      "  102   DVD-Player        LG                NA                  80.0   50\n",
      "  103   A/C               LG                2HP                120.0   50\n",
      "  104   A/C               Panasonic         2HP                180.0   27\n",
      "  105   Laptop            Macbook           14in               450.0   50\n",
      "  106   Phone             Apple             13pro-Max          650.0   40\n",
      "  107   Washing-Machine   Samsung           7kg                120.0  100\n",
      "  108   Refrigerator      Samsung           130ltr             105.0  100\n",
      "  109   Gas-Cooker        LG                Medium              85.0  100\n",
      "==========================================================================\n",
      "Enter item id or # to return: 108\n",
      "Enter qty: 3\n",
      "==========================================================================\n",
      "\n",
      "item_id Name              Brand             Size              Price    Qty\n",
      "==========================================================================\n",
      "  100   TV                Sony              32in               250.0   50\n",
      "  101   Laptop            HP                14in               120.0   50\n",
      "  102   DVD-Player        LG                NA                  80.0   50\n",
      "  103   A/C               LG                2HP                120.0   50\n",
      "  104   A/C               Panasonic         2HP                180.0   27\n",
      "  105   Laptop            Macbook           14in               450.0   50\n",
      "  106   Phone             Apple             13pro-Max          650.0   40\n",
      "  107   Washing-Machine   Samsung           7kg                120.0  100\n",
      "  108   Refrigerator      Samsung           130ltr             105.0   97\n",
      "  109   Gas-Cooker        LG                Medium              85.0  100\n",
      "==========================================================================\n",
      "Enter item id or # to return: #\n",
      "\n",
      "[1]: Add To Cart\n",
      "[2]: Show Cart\n",
      "[3]: Checkout\n",
      "[#]: Exit\n",
      "\n",
      "Enter option: 2\n",
      "\n",
      "Cart Details...\n",
      "==========================================================================\n",
      "\n",
      "item_id Name              Brand             Size              Price    Qty\n",
      "==========================================================================\n",
      "  104   A/C               Panasonic         2HP                180.0    3\n",
      "  108   Refrigerator      Samsung           130ltr             105.0    3\n",
      "==========================================================================\n",
      "                                                      Total: $855.0\n",
      "==========================================================================\n",
      "\n",
      "[1]: Add To Cart\n",
      "[2]: Show Cart\n",
      "[3]: Checkout\n",
      "[#]: Exit\n",
      "\n",
      "Enter option: 3\n",
      "\n",
      "Cart Details...\n",
      "==========================================================================\n",
      "\n",
      "item_id Name              Brand             Size              Price    Qty\n",
      "==========================================================================\n",
      "  104   A/C               Panasonic         2HP                180.0    3\n",
      "  108   Refrigerator      Samsung           130ltr             105.0    3\n",
      "==========================================================================\n",
      "                                                      Total: $855.0\n",
      "==========================================================================\n",
      "Enter Payment: 44\n",
      "Insufficient Funds..\n",
      "You need to balance with: $811.00\n",
      "Enter Payment: 33\n",
      "Insufficient Funds..\n",
      "You need to balance with: $822.00\n",
      "\n",
      "[1]: Add To Cart\n",
      "[2]: Show Cart\n",
      "[3]: Checkout\n",
      "[#]: Exit\n",
      "\n",
      "Enter option: #\n",
      "Thanks for shopping...\n"
     ]
    }
   ],
   "source": [
    "import os\n",
    "\n",
    "def load_stock():\n",
    "    stock_data = {}\n",
    "    \n",
    "    if os.path.isfile('./170123/stock.txt') == True:\n",
    "        with open('./170123/stock.txt') as file:\n",
    "            data = file.readlines()\n",
    "            data = data[1:]\n",
    "            for row in data:\n",
    "                cols = row.strip().split('|')\n",
    "                stock_data[int(cols[0].strip())] = {'name': cols[1].strip(),\n",
    "                                        'brand': cols[2].strip(),\n",
    "                                        'size': cols[3].strip(), \n",
    "                                        'price': float(cols[4].strip()),\n",
    "                                        'qty': int(cols[5].strip())\n",
    "                                        }\n",
    "        \n",
    "    return stock_data\n",
    "\n",
    "\n",
    "def show_stock(stock):\n",
    "    print(\"=\"*74)\n",
    "    print(f'\\n{\"item_id\":8}{\"Name\":18}{\"Brand\":18}{\"Size\":18}{\"Price\":6}{\"Qty\":>6}')\n",
    "    print(\"=\"*74)\n",
    "    for item_id in stock:\n",
    "        name = stock[item_id]['name']\n",
    "        brand = stock[item_id]['brand']\n",
    "        size = stock[item_id]['size']\n",
    "        price = stock[item_id]['price']\n",
    "        qty = stock[item_id]['qty']\n",
    "        print(f'{item_id:^8}{name:18}{brand:18}{size:18}{price:>6}{qty:>5}')\n",
    "    print(\"=\"*74)\n",
    "    \n",
    "    \n",
    "def add_to_cart(stock, cart):\n",
    "    counter = 3\n",
    "    \n",
    "    while counter > 0:\n",
    "        show_stock(stock)\n",
    "        item_id = input('Enter item id or # to return: ')   # prompt user for item_id of item to buy\n",
    "        if item_id == \"#\":\n",
    "            break\n",
    "            \n",
    "        try:\n",
    "            item_id = int(item_id)\n",
    "            if item_id in stock: # check if item_id exist\n",
    "                item = stock[item_id]\n",
    "                if item['qty'] == 0: # if item qty == 0:\n",
    "                    print('out of stock')\n",
    "                    counter -= 1\n",
    "\n",
    "                try:\n",
    "                    qty = int(input('Enter qty: ')) # prompt for qty\n",
    "                    if qty <= item['qty']:\n",
    "                        item['qty'] -= qty\n",
    "                        cart[item_id] = {'name': item['name'],\n",
    "                                            'brand': item['brand'],\n",
    "                                            'size': item['size'], \n",
    "                                            'price': item['price'],\n",
    "                                            'qty': qty\n",
    "                                            }\n",
    "                    else:\n",
    "                        print(f'{item_id} available quantity is {item[\"qty\"]}')\n",
    "                        counter -= 1      \n",
    "                except: \n",
    "                    print('Invalid input')\n",
    "                    counter -= 1\n",
    "\n",
    "            else:\n",
    "                print(f'Item {item_id} not available')\n",
    "                counter -= 1\n",
    "        except: \n",
    "            print('Invalid input')\n",
    "            counter -= 1\n",
    "            \n",
    "            \n",
    "def show_cart(cart):\n",
    "    total = 0\n",
    "    if cart:\n",
    "        print('\\nCart Details...')\n",
    "        print(\"=\"*74)\n",
    "        print(f'\\n{\"item_id\":8}{\"Name\":18}{\"Brand\":18}{\"Size\":18}{\"Price\":6}{\"Qty\":>6}')\n",
    "        print(\"=\"*74)\n",
    "        for item_id in cart:\n",
    "            name = cart[item_id]['name']\n",
    "            brand = cart[item_id]['brand']\n",
    "            size = cart[item_id]['size']\n",
    "            price = cart[item_id]['price']\n",
    "            qty = cart[item_id]['qty']\n",
    "            total += (price * qty)\n",
    "            print(f'{item_id:^8}{name:18}{brand:18}{size:18}{price:>6}{qty:>5}')\n",
    "        print(\"=\"*74)\n",
    "        print(' '*53, f'Total: ${total:>.2f}')\n",
    "        print(\"=\"*74)\n",
    "        \n",
    "    else:\n",
    "        print('Empty cart..')\n",
    "            \n",
    "            \n",
    "            \n",
    "def checkout(cart):\n",
    "    counter = 0\n",
    "    total = 0\n",
    "    if cart:\n",
    "        print('\\nCart Details...')\n",
    "        print(\"=\"*74)\n",
    "        print(f'\\n{\"item_id\":8}{\"Name\":18}{\"Brand\":18}{\"Size\":18}{\"Price\":6}{\"Qty\":>6}')\n",
    "        print(\"=\"*74)\n",
    "        for item_id in cart:\n",
    "            name = cart[item_id]['name']\n",
    "            brand = cart[item_id]['brand']\n",
    "            size = cart[item_id]['size']\n",
    "            price = cart[item_id]['price']\n",
    "            qty = cart[item_id]['qty']\n",
    "            total += (price * qty)\n",
    "            print(f'{item_id:^8}{name:18}{brand:18}{size:18}{price:>6}{qty:>5}')\n",
    "        print(\"=\"*74)\n",
    "        print(' '*53, f'Total: ${total:>.1f}')\n",
    "        print(\"=\"*74)\n",
    "        \n",
    "        \n",
    "        while counter < 2:          \n",
    "            paymnt = float(input('Enter Payment: '))\n",
    "            if paymnt < total:\n",
    "                print(f'Insufficient Funds..\\nYou need to balance with: ${(total - paymnt):.2f}')\n",
    "                counter += 1\n",
    "            else:        \n",
    "                cust_name = input('Enter name: ')\n",
    "                bal = paymnt - total\n",
    "                print(f'Balance: ${bal:.2f}')\n",
    "                print(f\"{cust_name}, thank you for your patronage...\" )\n",
    "                cart = {}\n",
    "                break\n",
    "\n",
    "    else:\n",
    "        print('Empty cart..')\n",
    "        \n",
    "    return cart\n",
    "            \n",
    "\n",
    "def vee_mart():\n",
    "    \n",
    "    trial = 3\n",
    "    stock = load_stock()\n",
    "    cart = {}\n",
    "    \n",
    "    if stock:\n",
    "        print('Welcome to Vee Mart...')\n",
    "\n",
    "        def menu():\n",
    "            print('\\n[1]: Add To Cart')\n",
    "            print('[2]: Show Cart')\n",
    "            print('[3]: Checkout')\n",
    "            print('[#]: Exit\\n')\n",
    "\n",
    "        while trial > 0:\n",
    "            menu()\n",
    "            option = input('Enter option: ')\n",
    "\n",
    "            if option == '1':\n",
    "                add_to_cart(stock, cart)\n",
    "            elif option == '2':\n",
    "                show_cart(cart)\n",
    "            elif option == '3':\n",
    "                cart = checkout(cart)\n",
    "            elif option == '#':\n",
    "                print('Thanks for shopping...')\n",
    "                break\n",
    "            else:\n",
    "                print('Invalid option')\n",
    "                trial -= 1\n",
    "        \n",
    "    else:\n",
    "        print('Shop Close...')\n",
    "    \n",
    "if __name__ == \"__main__\":\n",
    "    vee_mart()"
   ]
  },
  {
   "cell_type": "code",
   "execution_count": 10,
   "id": "4751a84e",
   "metadata": {},
   "outputs": [
    {
     "ename": "TypeError",
     "evalue": "__init__() takes 1 positional argument but 2 were given",
     "output_type": "error",
     "traceback": [
      "\u001b[1;31m---------------------------------------------------------------------------\u001b[0m",
      "\u001b[1;31mTypeError\u001b[0m                                 Traceback (most recent call last)",
      "\u001b[1;32m~\\AppData\\Local\\Temp\\ipykernel_15836\\2529392788.py\u001b[0m in \u001b[0;36m<module>\u001b[1;34m\u001b[0m\n\u001b[0;32m     10\u001b[0m \u001b[1;31m# print(emp.name)\u001b[0m\u001b[1;33m\u001b[0m\u001b[1;33m\u001b[0m\u001b[0m\n\u001b[0;32m     11\u001b[0m \u001b[1;33m\u001b[0m\u001b[0m\n\u001b[1;32m---> 12\u001b[1;33m \u001b[0memp\u001b[0m \u001b[1;33m=\u001b[0m \u001b[0mEmployee\u001b[0m\u001b[1;33m(\u001b[0m\u001b[1;34m'Tayo'\u001b[0m\u001b[1;33m)\u001b[0m   \u001b[1;31m# XAsheu7r\u001b[0m\u001b[1;33m\u001b[0m\u001b[1;33m\u001b[0m\u001b[0m\n\u001b[0m\u001b[0;32m     13\u001b[0m \u001b[1;31m# print(emp.name)\u001b[0m\u001b[1;33m\u001b[0m\u001b[1;33m\u001b[0m\u001b[0m\n\u001b[0;32m     14\u001b[0m \u001b[1;33m\u001b[0m\u001b[0m\n",
      "\u001b[1;31mTypeError\u001b[0m: __init__() takes 1 positional argument but 2 were given"
     ]
    }
   ],
   "source": [
    "class Employee:\n",
    "#     pass\n",
    "    def __init__(self):\n",
    "        pass\n",
    "#         self.name = name\n",
    "\n",
    "\n",
    "\n",
    "\n",
    "emp = Employee()   # AX564536\n",
    "# print(emp.name)\n",
    "\n",
    "emp = Employee('Tayo')   # XAsheu7r\n",
    "# print(emp.name)\n",
    "\n",
    "emp = Employee('Dayo')  # CAS34444\n",
    "print(emp.name)\n",
    "\n",
    "\n"
   ]
  },
  {
   "cell_type": "code",
   "execution_count": 17,
   "id": "f89cfe09",
   "metadata": {},
   "outputs": [
    {
     "ename": "AttributeError",
     "evalue": "'Human' object has no attribute 'hands'",
     "output_type": "error",
     "traceback": [
      "\u001b[1;31m---------------------------------------------------------------------------\u001b[0m",
      "\u001b[1;31mAttributeError\u001b[0m                            Traceback (most recent call last)",
      "\u001b[1;32m~\\AppData\\Local\\Temp\\ipykernel_15836\\4010125303.py\u001b[0m in \u001b[0;36m<module>\u001b[1;34m\u001b[0m\n\u001b[0;32m      9\u001b[0m \u001b[1;33m\u001b[0m\u001b[0m\n\u001b[0;32m     10\u001b[0m \u001b[0mobj\u001b[0m \u001b[1;33m=\u001b[0m \u001b[0mHuman\u001b[0m\u001b[1;33m(\u001b[0m\u001b[1;33m)\u001b[0m\u001b[1;33m\u001b[0m\u001b[1;33m\u001b[0m\u001b[0m\n\u001b[1;32m---> 11\u001b[1;33m \u001b[0mprint\u001b[0m\u001b[1;33m(\u001b[0m\u001b[0mobj\u001b[0m\u001b[1;33m.\u001b[0m\u001b[0mhands\u001b[0m\u001b[1;33m)\u001b[0m\u001b[1;33m\u001b[0m\u001b[1;33m\u001b[0m\u001b[0m\n\u001b[0m",
      "\u001b[1;31mAttributeError\u001b[0m: 'Human' object has no attribute 'hands'"
     ]
    }
   ],
   "source": [
    "class Human:\n",
    "    def __init__(self, h, l, hd, n):\n",
    "        self.head = h\n",
    "        self.legs = l\n",
    "        self.hands = hd\n",
    "        self.name = n\n",
    "        \n",
    "\n",
    "        \n",
    "obj = Human(1, 2, 2, \"Bomboy\")\n",
    "print(obj.hands)"
   ]
  },
  {
   "cell_type": "code",
   "execution_count": 34,
   "id": "8ba350ad",
   "metadata": {},
   "outputs": [
    {
     "name": "stdout",
     "output_type": "stream",
     "text": [
      "1\n",
      "5\n",
      "1\n"
     ]
    }
   ],
   "source": [
    "class Human:\n",
    "    \n",
    "    ears = 5\n",
    "    def __init__(self, hd, n, e, h=4, l=8):\n",
    "        self.head = 4\n",
    "        self.legs = l\n",
    "        self.hands = hd\n",
    "        self.name = n\n",
    "        self.ears = e\n",
    "        \n",
    "\n",
    "        \n",
    "obj = Human(1, 2, 2, \"Bomboy\", 3)\n",
    "print(obj.hands)\n",
    "\n",
    "print(Human.ears)\n",
    "print(obj.hands)"
   ]
  },
  {
   "cell_type": "code",
   "execution_count": 53,
   "id": "a7703d18",
   "metadata": {
    "scrolled": true
   },
   "outputs": [
    {
     "name": "stdout",
     "output_type": "stream",
     "text": [
      "Animal\n",
      "Animal population is 1\n",
      "Animal don carry 4 pikin\n",
      "Human population is 1\n",
      "Animal population is 2\n",
      "Amaka don carry 3 pikin\n",
      "Amaka don born 2 pikin\n",
      "Bird population is 1\n",
      "Animal population is 3\n",
      "Parrot don carry 5 pikin\n",
      "Parrot don born 3 pikin\n",
      "Parrot is flying with its 2 wings\n"
     ]
    }
   ],
   "source": [
    "# import abc\n",
    "\n",
    "class Animal:\n",
    "    __population = 0\n",
    "    \n",
    "    def __init__(self, name, head=1, eyes=2, legs=2):\n",
    "        self.head = head\n",
    "        self.eyes = eyes\n",
    "        self.legs = legs\n",
    "        self.name = name\n",
    "        Animal.__population += 1\n",
    "    \n",
    "    def eat(self, food):\n",
    "        print(f'{self.name} is eating {food}')\n",
    "        \n",
    "        \n",
    "    def drink(self, liquid):\n",
    "        print(f'{self.name} is enjoying life with {liquid}')\n",
    "    \n",
    "    def reproduce(self, offspring: int):\n",
    "        print(f'{self.name} don carry {offspring} pikin')\n",
    "\n",
    "    \n",
    "    @classmethod\n",
    "    def census(cls):\n",
    "        print(f'Animal population is {cls.__population}')\n",
    "\n",
    "\n",
    "        \n",
    "class Human(Animal):\n",
    "    \n",
    "    __population = 0\n",
    "    \n",
    "    def __init__(self, name, hair, hands=2, head=1, eyes=2, legs=2):\n",
    "        super(Human, self).__init__(name, head, eyes, legs)\n",
    "        self.hands = hands\n",
    "        self.hair = hair\n",
    "        Human.__population += 1\n",
    "        \n",
    "        \n",
    "    def birth(self, offspring, die):\n",
    "        self.reproduce(offspring)\n",
    "        print(f'{self.name} don born {offspring - die} pikin')\n",
    "    \n",
    "    \n",
    "    @classmethod\n",
    "    def census(cls):\n",
    "        print(f'Human population is {cls.__population}') \n",
    "        \n",
    "        \n",
    "        \n",
    "class Bird(Animal):\n",
    "    \n",
    "    __population = 0\n",
    "    \n",
    "    def __init__(self, name, feather, wings=2, head=1, eyes=2, legs=2):\n",
    "        super(Bird, self).__init__(name, head, eyes, legs)\n",
    "        self.feather = feather\n",
    "        self.wings = wings\n",
    "        Bird.__population += 1\n",
    "        \n",
    "        \n",
    "    def fly(self):\n",
    "        print(f'{self.name} is flying with its {self.wings} wings')\n",
    "        \n",
    "    def lay_egg(self, offspring, die):\n",
    "        self.reproduce(offspring)\n",
    "        print(f'{self.name} don born {offspring - die} pikin')\n",
    "    \n",
    "    \n",
    "    @classmethod\n",
    "    def census(cls):\n",
    "        print(f'Bird population is {cls.__population}') \n",
    "        \n",
    "        \n",
    "\n",
    "\n",
    "if __name__ == \"__main__\": \n",
    "    animal = Animal(\"Animal\")\n",
    "    print(animal.name)\n",
    "#     print(Animal.__population)\n",
    "    Animal.census()\n",
    "    animal.reproduce(4)\n",
    "    \n",
    "    \n",
    "    human = Human('Amaka', True)\n",
    "    Human.census()\n",
    "    Animal.census()\n",
    "    human.birth(3, 1)\n",
    "    \n",
    "    bird = Bird('Parrot', True)\n",
    "    Bird.census()\n",
    "    Animal.census()\n",
    "    bird.lay_egg(5, 2)\n",
    "    bird.fly()\n",
    "\n"
   ]
  },
  {
   "cell_type": "code",
   "execution_count": 61,
   "id": "62881892",
   "metadata": {},
   "outputs": [
    {
     "name": "stdout",
     "output_type": "stream",
     "text": [
      "ID: 101\n",
      "Price: 78.34\n",
      "Size: 43.2\n",
      "Color: Red\n"
     ]
    }
   ],
   "source": [
    "class Clothe:\n",
    "    def __init__(self, _id, price, size, color):\n",
    "        self.__id = _id\n",
    "        self.__price = price\n",
    "        self.__size = size\n",
    "        self.__color = color\n",
    "        \n",
    "    def get_id(self):\n",
    "        return self.__id\n",
    "    \n",
    "    def get_price(self):\n",
    "        return self.__price\n",
    "    \n",
    "    def get_size(self):\n",
    "        return self.__size\n",
    "    \n",
    "    def get_color(self):\n",
    "        return self.__color\n",
    "    \n",
    "    def display(self):\n",
    "        print(f\"ID: {self.get_id()}\" +\n",
    "            f\"\\nPrice: {self.get_price()}\" +\n",
    "            f\"\\nSize: {self.get_size()}\" +\n",
    "            f\"\\nColor: {self.get_color()}\")\n",
    "        \n",
    "        \n",
    "class Shirt(Clothe):\n",
    "    def __init__(self, _id, price, size, color, fit):\n",
    "        super(Shirt, self).__init__(_id, price, size, color)\n",
    "        self.__fit = fit\n",
    "        \n",
    "    def get_fit(self):\n",
    "        return self.__fit\n",
    "    \n",
    "    def display(self):\n",
    "        super.display()\n",
    "        print(f\"\\nFit: {self.get_fit()}\")\n",
    "        \n",
    "        \n",
    "class Trousers(Clothe):\n",
    "    def __init__(self, _id, price, size, color, fit, gender):\n",
    "        super(Trousers, self).__init__(_id, price, size, color)\n",
    "        self.__fit = fit\n",
    "        self.__gender = gender\n",
    "        \n",
    "        \n",
    "    def get_fit(self):\n",
    "        return self.__fit\n",
    "    \n",
    "    def get_gender(self):\n",
    "        return self.__gender\n",
    "    \n",
    "    def display(self):\n",
    "        super.display()\n",
    "        print(f\"\\nFit: {self.get_fit()}\\nGender: {self.get_gender()}\")\n",
    "        \n",
    "    \n",
    "class Socks(Clothe):\n",
    "    pass\n",
    "\n",
    "\n",
    "\n",
    "if __name__ == \"__main__\":\n",
    "    socks = Socks(101, 78.34, 43.2, 'Red')\n",
    "    socks.display()"
   ]
  },
  {
   "cell_type": "code",
   "execution_count": 8,
   "id": "eee48829",
   "metadata": {},
   "outputs": [
    {
     "name": "stdout",
     "output_type": "stream",
     "text": [
      "door opened\n"
     ]
    }
   ],
   "source": [
    "import abc\n",
    "\n",
    "class Player(abc.ABC):\n",
    "    @abc.abstractmethod\n",
    "    def play(self, source):\n",
    "        pass\n",
    "    \n",
    "    \n",
    "    \n",
    "class DVD(Player):\n",
    "    def play(self, source):\n",
    "        pass \n",
    "    \n",
    "# player = Player()\n",
    "# player.open_door()\n",
    "\n",
    "dvd = DVD()\n",
    "dvd.open_door()\n",
    "dvd.play('dvd')"
   ]
  },
  {
   "cell_type": "code",
   "execution_count": 2,
   "id": "a2444e9c",
   "metadata": {},
   "outputs": [
    {
     "ename": "ValueError",
     "evalue": "map is not a valid plot kind",
     "output_type": "error",
     "traceback": [
      "\u001b[1;31m---------------------------------------------------------------------------\u001b[0m",
      "\u001b[1;31mValueError\u001b[0m                                Traceback (most recent call last)",
      "\u001b[1;32m~\\AppData\\Local\\Temp\\ipykernel_5532\\574414056.py\u001b[0m in \u001b[0;36m<module>\u001b[1;34m\u001b[0m\n\u001b[0;32m     19\u001b[0m \u001b[1;33m\u001b[0m\u001b[0m\n\u001b[0;32m     20\u001b[0m \u001b[1;31m# Plot the data on the map\u001b[0m\u001b[1;33m\u001b[0m\u001b[1;33m\u001b[0m\u001b[0m\n\u001b[1;32m---> 21\u001b[1;33m \u001b[0mgrouped_data\u001b[0m\u001b[1;33m.\u001b[0m\u001b[0mplot\u001b[0m\u001b[1;33m(\u001b[0m\u001b[0mkind\u001b[0m\u001b[1;33m=\u001b[0m\u001b[1;34m\"map\"\u001b[0m\u001b[1;33m,\u001b[0m \u001b[0mx\u001b[0m\u001b[1;33m=\u001b[0m\u001b[1;34m\"longitude\"\u001b[0m\u001b[1;33m,\u001b[0m \u001b[0my\u001b[0m\u001b[1;33m=\u001b[0m\u001b[1;34m\"latitude\"\u001b[0m\u001b[1;33m,\u001b[0m \u001b[0ms\u001b[0m\u001b[1;33m=\u001b[0m\u001b[0mgrouped_data\u001b[0m\u001b[1;33m[\u001b[0m\u001b[1;34m\"value\"\u001b[0m\u001b[1;33m]\u001b[0m\u001b[1;33m/\u001b[0m\u001b[1;36m10\u001b[0m\u001b[1;33m,\u001b[0m \u001b[0malpha\u001b[0m\u001b[1;33m=\u001b[0m\u001b[1;36m0.5\u001b[0m\u001b[1;33m)\u001b[0m\u001b[1;33m\u001b[0m\u001b[1;33m\u001b[0m\u001b[0m\n\u001b[0m\u001b[0;32m     22\u001b[0m \u001b[1;33m\u001b[0m\u001b[0m\n\u001b[0;32m     23\u001b[0m \u001b[1;31m# Display the map\u001b[0m\u001b[1;33m\u001b[0m\u001b[1;33m\u001b[0m\u001b[0m\n",
      "\u001b[1;32mC:\\ProgramData\\Anaconda3\\lib\\site-packages\\pandas\\plotting\\_core.py\u001b[0m in \u001b[0;36m__call__\u001b[1;34m(self, *args, **kwargs)\u001b[0m\n\u001b[0;32m    903\u001b[0m \u001b[1;33m\u001b[0m\u001b[0m\n\u001b[0;32m    904\u001b[0m         \u001b[1;32mif\u001b[0m \u001b[0mkind\u001b[0m \u001b[1;32mnot\u001b[0m \u001b[1;32min\u001b[0m \u001b[0mself\u001b[0m\u001b[1;33m.\u001b[0m\u001b[0m_all_kinds\u001b[0m\u001b[1;33m:\u001b[0m\u001b[1;33m\u001b[0m\u001b[1;33m\u001b[0m\u001b[0m\n\u001b[1;32m--> 905\u001b[1;33m             \u001b[1;32mraise\u001b[0m \u001b[0mValueError\u001b[0m\u001b[1;33m(\u001b[0m\u001b[1;34mf\"{kind} is not a valid plot kind\"\u001b[0m\u001b[1;33m)\u001b[0m\u001b[1;33m\u001b[0m\u001b[1;33m\u001b[0m\u001b[0m\n\u001b[0m\u001b[0;32m    906\u001b[0m \u001b[1;33m\u001b[0m\u001b[0m\n\u001b[0;32m    907\u001b[0m         \u001b[1;31m# The original data structured can be transformed before passed to the\u001b[0m\u001b[1;33m\u001b[0m\u001b[1;33m\u001b[0m\u001b[0m\n",
      "\u001b[1;31mValueError\u001b[0m: map is not a valid plot kind"
     ]
    }
   ],
   "source": [
    "import pandas as pd\n",
    "import matplotlib.pyplot as plt\n",
    "\n",
    "# Sample data\n",
    "data = {\"city\": [\"Los Angeles\", \"San Francisco\", \"New York\", \"Chicago\"],\n",
    "        \"state\": [\"CA\", \"CA\", \"NY\", \"IL\"],\n",
    "        \"latitude\": [34.0522, 37.7749, 40.7128, 41.8781],\n",
    "        \"longitude\": [-118.2437, -122.4194, -74.0060, -87.6298],\n",
    "        \"value\": [100, 200, 300, 400]}\n",
    "\n",
    "# Convert data to a pandas DataFrame\n",
    "df = pd.DataFrame(data)\n",
    "\n",
    "# Create a new column that combines the city and state data\n",
    "df[\"location\"] = df[\"city\"] + \", \" + df[\"state\"]\n",
    "\n",
    "# Group the data by location\n",
    "grouped_data = df.groupby(\"location\").sum()\n",
    "\n",
    "# Plot the data on the map\n",
    "grouped_data.plot(kind=\"scatter\", x=\"longitude\", y=\"latitude\", s=grouped_data[\"value\"]/10, alpha=0.5)\n",
    "\n",
    "# Display the map\n",
    "plt.show()"
   ]
  },
  {
   "cell_type": "code",
   "execution_count": 4,
   "id": "54ab3e51",
   "metadata": {},
   "outputs": [
    {
     "name": "stdout",
     "output_type": "stream",
     "text": [
      "Defaulting to user installation because normal site-packages is not writeable\n",
      "Collecting geopandas\n",
      "  Downloading geopandas-0.12.2-py3-none-any.whl (1.1 MB)\n",
      "     ---------------------------------------- 1.1/1.1 MB 1.3 MB/s eta 0:00:00\n",
      "Requirement already satisfied: packaging in c:\\programdata\\anaconda3\\lib\\site-packages (from geopandas) (21.3)\n",
      "Collecting pyproj>=2.6.1.post1\n",
      "  Downloading pyproj-3.5.0-cp39-cp39-win_amd64.whl (5.1 MB)\n",
      "     ---------------------------------------- 5.1/5.1 MB 980.7 kB/s eta 0:00:00\n",
      "Collecting fiona>=1.8\n",
      "  Downloading Fiona-1.9.3-cp39-cp39-win_amd64.whl (22.0 MB)\n",
      "     -------------------------------------- 22.0/22.0 MB 740.0 kB/s eta 0:00:00\n",
      "Collecting shapely>=1.7\n",
      "  Downloading shapely-2.0.1-cp39-cp39-win_amd64.whl (1.4 MB)\n",
      "     ---------------------------------------- 1.4/1.4 MB 1.0 MB/s eta 0:00:00\n",
      "Requirement already satisfied: pandas>=1.0.0 in c:\\programdata\\anaconda3\\lib\\site-packages (from geopandas) (1.4.4)\n",
      "Requirement already satisfied: importlib-metadata in c:\\programdata\\anaconda3\\lib\\site-packages (from fiona>=1.8->geopandas) (4.11.3)\n",
      "Requirement already satisfied: click~=8.0 in c:\\programdata\\anaconda3\\lib\\site-packages (from fiona>=1.8->geopandas) (8.0.4)\n",
      "Requirement already satisfied: certifi in c:\\programdata\\anaconda3\\lib\\site-packages (from fiona>=1.8->geopandas) (2022.9.14)\n",
      "Collecting click-plugins>=1.0\n",
      "  Downloading click_plugins-1.1.1-py2.py3-none-any.whl (7.5 kB)\n",
      "Requirement already satisfied: attrs>=19.2.0 in c:\\programdata\\anaconda3\\lib\\site-packages (from fiona>=1.8->geopandas) (21.4.0)\n",
      "Collecting munch>=2.3.2\n",
      "  Downloading munch-2.5.0-py2.py3-none-any.whl (10 kB)\n",
      "Collecting cligj>=0.5\n",
      "  Downloading cligj-0.7.2-py3-none-any.whl (7.1 kB)\n",
      "Requirement already satisfied: python-dateutil>=2.8.1 in c:\\programdata\\anaconda3\\lib\\site-packages (from pandas>=1.0.0->geopandas) (2.8.2)\n",
      "Requirement already satisfied: pytz>=2020.1 in c:\\programdata\\anaconda3\\lib\\site-packages (from pandas>=1.0.0->geopandas) (2022.1)\n",
      "Requirement already satisfied: numpy>=1.18.5 in c:\\programdata\\anaconda3\\lib\\site-packages (from pandas>=1.0.0->geopandas) (1.21.5)\n",
      "Requirement already satisfied: pyparsing!=3.0.5,>=2.0.2 in c:\\programdata\\anaconda3\\lib\\site-packages (from packaging->geopandas) (3.0.9)\n",
      "Requirement already satisfied: colorama in c:\\programdata\\anaconda3\\lib\\site-packages (from click~=8.0->fiona>=1.8->geopandas) (0.4.5)\n",
      "Requirement already satisfied: six in c:\\programdata\\anaconda3\\lib\\site-packages (from munch>=2.3.2->fiona>=1.8->geopandas) (1.16.0)\n",
      "Requirement already satisfied: zipp>=0.5 in c:\\programdata\\anaconda3\\lib\\site-packages (from importlib-metadata->fiona>=1.8->geopandas) (3.8.0)\n",
      "Installing collected packages: shapely, pyproj, munch, cligj, click-plugins, fiona, geopandas\n"
     ]
    },
    {
     "name": "stderr",
     "output_type": "stream",
     "text": [
      "ERROR: Could not install packages due to an OSError: [Errno 28] No space left on device\n",
      "\n"
     ]
    }
   ],
   "source": [
    "!pip install geopandas"
   ]
  },
  {
   "cell_type": "code",
   "execution_count": 1,
   "id": "de69261e",
   "metadata": {
    "scrolled": true
   },
   "outputs": [
    {
     "ename": "ModuleNotFoundError",
     "evalue": "No module named 'geopandas'",
     "output_type": "error",
     "traceback": [
      "\u001b[1;31m---------------------------------------------------------------------------\u001b[0m",
      "\u001b[1;31mModuleNotFoundError\u001b[0m                       Traceback (most recent call last)",
      "\u001b[1;32m~\\AppData\\Local\\Temp\\ipykernel_5060\\3441125967.py\u001b[0m in \u001b[0;36m<module>\u001b[1;34m\u001b[0m\n\u001b[0;32m      1\u001b[0m \u001b[1;32mimport\u001b[0m \u001b[0mmatplotlib\u001b[0m\u001b[1;33m.\u001b[0m\u001b[0mpyplot\u001b[0m \u001b[1;32mas\u001b[0m \u001b[0mplt\u001b[0m\u001b[1;33m\u001b[0m\u001b[1;33m\u001b[0m\u001b[0m\n\u001b[1;32m----> 2\u001b[1;33m \u001b[1;32mimport\u001b[0m \u001b[0mgeopandas\u001b[0m\u001b[1;33m\u001b[0m\u001b[1;33m\u001b[0m\u001b[0m\n\u001b[0m\u001b[0;32m      3\u001b[0m \u001b[1;33m\u001b[0m\u001b[0m\n\u001b[0;32m      4\u001b[0m \u001b[0mworld\u001b[0m \u001b[1;33m=\u001b[0m \u001b[0mgeopandas\u001b[0m\u001b[1;33m.\u001b[0m\u001b[0mread_file\u001b[0m\u001b[1;33m(\u001b[0m\u001b[0mgeopandas\u001b[0m\u001b[1;33m.\u001b[0m\u001b[0mdatasets\u001b[0m\u001b[1;33m.\u001b[0m\u001b[0mget_path\u001b[0m\u001b[1;33m(\u001b[0m\u001b[1;34m'naturalearth_lowres'\u001b[0m\u001b[1;33m)\u001b[0m\u001b[1;33m)\u001b[0m\u001b[1;33m\u001b[0m\u001b[1;33m\u001b[0m\u001b[0m\n\u001b[0;32m      5\u001b[0m \u001b[0mworld\u001b[0m\u001b[1;33m.\u001b[0m\u001b[0mplot\u001b[0m\u001b[1;33m(\u001b[0m\u001b[1;33m)\u001b[0m\u001b[1;33m\u001b[0m\u001b[1;33m\u001b[0m\u001b[0m\n",
      "\u001b[1;31mModuleNotFoundError\u001b[0m: No module named 'geopandas'"
     ]
    }
   ],
   "source": [
    "import matplotlib.pyplot as plt\n",
    "import geopandas\n",
    "\n",
    "world = geopandas.read_file(geopandas.datasets.get_path('naturalearth_lowres'))\n",
    "world.plot()\n",
    "plt.show()"
   ]
  },
  {
   "cell_type": "code",
   "execution_count": null,
   "id": "620e57d0",
   "metadata": {},
   "outputs": [],
   "source": []
  }
 ],
 "metadata": {
  "kernelspec": {
   "display_name": "Python 3 (ipykernel)",
   "language": "python",
   "name": "python3"
  },
  "language_info": {
   "codemirror_mode": {
    "name": "ipython",
    "version": 3
   },
   "file_extension": ".py",
   "mimetype": "text/x-python",
   "name": "python",
   "nbconvert_exporter": "python",
   "pygments_lexer": "ipython3",
   "version": "3.11.3"
  }
 },
 "nbformat": 4,
 "nbformat_minor": 5
}
